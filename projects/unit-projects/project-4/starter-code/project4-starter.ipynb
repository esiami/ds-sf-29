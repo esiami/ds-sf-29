{
 "cells": [
  {
   "cell_type": "markdown",
   "metadata": {},
   "source": [
    "# Project 4\n",
    "\n",
    "In this project, you will summarize and present your analysis from Projects 1-3."
   ]
  },
  {
   "cell_type": "markdown",
   "metadata": {},
   "source": [
    "### Intro: Write a problem Statement/ Specific Aim for this project"
   ]
  },
  {
   "cell_type": "markdown",
   "metadata": {},
   "source": [
    "Answer: The goal of this project is to predict whether or not a student will be admitted into school by determining the colinearity of the variables gpa, gre and prestige. "
   ]
  },
  {
   "cell_type": "markdown",
   "metadata": {},
   "source": [
    "### Dataset:  Write up a description of your data and any cleaning that was completed"
   ]
  },
  {
   "cell_type": "markdown",
   "metadata": {},
   "source": [
    "Answer: The admissions dataset has 4 variables - gpa, gre, admit and prestige. When the data is read into a dataframe, the variables become columns and there are 400 rows. \n",
    "\n",
    "Step 1: Count the dataframe (df.count). However, by counting the data, I noticed that there is missing data. The missing data impacts the results in the describe function summary.  \n",
    "\n",
    "Step 2: Describe the dataframe (df.describe()). The 25,50 and 75% percentiles return a NaN value. The other values, such as mean, std, etc. are impacted as well by the missing data.\n",
    "\n",
    "Step 3: Drop NA values (df.dropna()). By dropping the NA values, and running the describe function again, you'll see that the # of rows drops to 397 which tells you the null values have been removed from the dataset. "
   ]
  },
  {
   "cell_type": "markdown",
   "metadata": {
    "collapsed": true
   },
   "source": [
    "### Demo: Provide a table that explains the data by admission status"
   ]
  },
  {
   "cell_type": "markdown",
   "metadata": {},
   "source": [
    "Mean (STD) or counts by admission status for each variable \n",
    "\n",
    "| Not Admitted | Admitted\n",
    "---| ---|---\n",
    "GPA | 1.857173  | 1.405509\n",
    "GRE |6.242904 | 3.812530\n",
    "Prestige 1 | 0.325 | 3.079\n",
    "Prestige 2 | 0.743 | 1.345\n",
    "Prestige 3 | 1.829 | 0.547\n",
    "Prestige 4 | 2.420 | 0.413"
   ]
  },
  {
   "cell_type": "markdown",
   "metadata": {},
   "source": [
    "### Methods: Write up the methods used in your analysis"
   ]
  },
  {
   "cell_type": "markdown",
   "metadata": {},
   "source": [
    "Answer: The next step is to visualize the data.\n",
    "\n",
    "Step 1: Create box plots - helps to see the distribution of the data, and identify any outliers. I created box plots for gre and gpa since those were the two variables I wanted to explore to see what the correlation is to admit.\n",
    "\n",
    "Step 2: Create a histogram - this visual also helps to see the distribution of the data. But with a histogram, you can more easily see if the data follows a normal distribution or if it is skewed. Both the gre and gpa histograms are negatively skewed, suggesting that the average is lower than median and mode. So, the majority and most common gpa and gre scores are high, but the few that are fairly low bring the avgerage down significantly.\n",
    "\n",
    "Step 3: Build corrlelation matrix - I then built a correlation heatmap matrix which shows how correlated the variables are. Gre and gpa are most correlated with admit, prestige is less correlated with admit. \n",
    "\n",
    "Step 4: To build the regression, I then created crosstabs, dummy variables and odds ratios for gre, gpa, each prestige score to admit. \n",
    "\n",
    "Step 5: After running the regression, I printed the results summary to see how accurate the model is."
   ]
  },
  {
   "cell_type": "markdown",
   "metadata": {},
   "source": [
    "### Results: Write up your results"
   ]
  },
  {
   "cell_type": "markdown",
   "metadata": {},
   "source": [
    "Answer:"
   ]
  },
  {
   "cell_type": "markdown",
   "metadata": {},
   "source": [
    "### Visuals: Provide a table or visualization of these results"
   ]
  },
  {
   "cell_type": "markdown",
   "metadata": {},
   "source": [
    "Logit Regression Results                           \n",
    "==============================================================================\n",
    "Dep. Variable:                  admit   No. Observations:                  397\n",
    "Model:                          Logit   Df Residuals:                      391\n",
    "Method:                           MLE   Df Model:                            5\n",
    "Date:                Thu, 15 Dec 2016   Pseudo R-squ.:                 0.08166\n",
    "Time:                        21:07:44   Log-Likelihood:                -227.82\n",
    "converged:                       True   LL-Null:                       -248.08\n",
    "                                        LLR p-value:                 1.176e-07\n",
    "================================================================================\n",
    "                   coef    std err          z      P>|z|      [95.0% Conf. Int.]\n",
    "--------------------------------------------------------------------------------\n",
    "gre              0.0022      0.001      2.028      0.043      7.44e-05     0.004\n",
    "gpa              0.7793      0.333      2.344      0.019         0.128     1.431\n",
    "prestige_2.0    -0.6801      0.317     -2.146      0.032        -1.301    -0.059\n",
    "prestige_3.0    -1.3387      0.345     -3.882      0.000        -2.015    -0.663\n",
    "prestige_4.0    -1.5534      0.417     -3.721      0.000        -2.372    -0.735\n",
    "intercept       -3.8769      1.142     -3.393      0.001        -6.116    -1.638\n",
    "================================================================================"
   ]
  },
  {
   "cell_type": "markdown",
   "metadata": {},
   "source": [
    "<img src='placeholder.png' height= 25% width= 25%>"
   ]
  },
  {
   "cell_type": "markdown",
   "metadata": {},
   "source": [
    "### Discussion: Write up your discussion and future steps"
   ]
  },
  {
   "cell_type": "markdown",
   "metadata": {},
   "source": [
    "Answer: "
   ]
  }
 ],
 "metadata": {
  "anaconda-cloud": {},
  "kernelspec": {
   "display_name": "Python [default]",
   "language": "python",
   "name": "python2"
  },
  "language_info": {
   "codemirror_mode": {
    "name": "ipython",
    "version": 2
   },
   "file_extension": ".py",
   "mimetype": "text/x-python",
   "name": "python",
   "nbconvert_exporter": "python",
   "pygments_lexer": "ipython2",
   "version": "2.7.12"
  }
 },
 "nbformat": 4,
 "nbformat_minor": 0
}
