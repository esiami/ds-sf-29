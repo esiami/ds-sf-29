{
 "cells": [
  {
   "cell_type": "code",
   "execution_count": 5,
   "metadata": {
    "collapsed": false
   },
   "outputs": [],
   "source": [
    "from sklearn.model_selection import train_test_split\n",
    "import numpy as np\n",
    "import pandas as pd\n",
    "from matplotlib import pyplot as plt\n",
    "import seaborn as sns\n",
    "from sklearn.tree import DecisionTreeClassifier\n",
    "from sklearn.model_selection import StratifiedKFold\n",
    "from sklearn.ensemble import RandomForestClassifier"
   ]
  },
  {
   "cell_type": "code",
   "execution_count": 6,
   "metadata": {
    "collapsed": false
   },
   "outputs": [
    {
     "name": "stdout",
     "output_type": "stream",
     "text": [
      "0.18.1\n"
     ]
    }
   ],
   "source": [
    "import sklearn\n",
    "print sklearn.__version__"
   ]
  },
  {
   "cell_type": "code",
   "execution_count": 71,
   "metadata": {
    "collapsed": false
   },
   "outputs": [
    {
     "data": {
      "text/html": [
       "<div>\n",
       "<table border=\"1\" class=\"dataframe\">\n",
       "  <thead>\n",
       "    <tr style=\"text-align: right;\">\n",
       "      <th></th>\n",
       "      <th>ID</th>\n",
       "      <th>Account_Name</th>\n",
       "      <th>Years_as_Customer</th>\n",
       "      <th>Monthly_FH_Quota</th>\n",
       "      <th>Sales_Order_ACV</th>\n",
       "      <th>Total_Services_Days</th>\n",
       "      <th>Paid_Days</th>\n",
       "      <th>Services_Days_Delivered</th>\n",
       "      <th>Analyst_Users</th>\n",
       "      <th>Business_Users</th>\n",
       "      <th>...</th>\n",
       "      <th>Avg_FH_Usage</th>\n",
       "      <th>Avg_%_FH_Usage</th>\n",
       "      <th>Month_1_PG</th>\n",
       "      <th>Month_2_PG</th>\n",
       "      <th>Month_3_PG</th>\n",
       "      <th>Month_4_PG</th>\n",
       "      <th>Month_5_PG</th>\n",
       "      <th>Month_6_PG</th>\n",
       "      <th>Avg_PG_Month</th>\n",
       "      <th>Output</th>\n",
       "    </tr>\n",
       "  </thead>\n",
       "  <tbody>\n",
       "    <tr>\n",
       "      <th>0</th>\n",
       "      <td>2123</td>\n",
       "      <td>7-Eleven Inc.(USA)</td>\n",
       "      <td>1.64</td>\n",
       "      <td>1000000.0</td>\n",
       "      <td>132500.00</td>\n",
       "      <td>36.0</td>\n",
       "      <td>21.0</td>\n",
       "      <td>16.00000</td>\n",
       "      <td>10.0</td>\n",
       "      <td>6.0</td>\n",
       "      <td>...</td>\n",
       "      <td>447698</td>\n",
       "      <td>0.45</td>\n",
       "      <td>48</td>\n",
       "      <td>243</td>\n",
       "      <td>104</td>\n",
       "      <td>74</td>\n",
       "      <td>82</td>\n",
       "      <td>24</td>\n",
       "      <td>96</td>\n",
       "      <td>3</td>\n",
       "    </tr>\n",
       "    <tr>\n",
       "      <th>1</th>\n",
       "      <td>1041</td>\n",
       "      <td>Purple Strategies, LLC</td>\n",
       "      <td>3.75</td>\n",
       "      <td>5000000.0</td>\n",
       "      <td>0.00</td>\n",
       "      <td>16.0</td>\n",
       "      <td>7.0</td>\n",
       "      <td>11.25000</td>\n",
       "      <td>21.0</td>\n",
       "      <td>27.0</td>\n",
       "      <td>...</td>\n",
       "      <td>658367</td>\n",
       "      <td>0.13</td>\n",
       "      <td>794</td>\n",
       "      <td>2193</td>\n",
       "      <td>4097</td>\n",
       "      <td>779</td>\n",
       "      <td>1464</td>\n",
       "      <td>373</td>\n",
       "      <td>1617</td>\n",
       "      <td>1</td>\n",
       "    </tr>\n",
       "    <tr>\n",
       "      <th>2</th>\n",
       "      <td>1565</td>\n",
       "      <td>AbbVie, Inc.</td>\n",
       "      <td>1.38</td>\n",
       "      <td>1000000.0</td>\n",
       "      <td>115500.00</td>\n",
       "      <td>56.0</td>\n",
       "      <td>46.0</td>\n",
       "      <td>23.96875</td>\n",
       "      <td>19.0</td>\n",
       "      <td>80.0</td>\n",
       "      <td>...</td>\n",
       "      <td>611746</td>\n",
       "      <td>0.61</td>\n",
       "      <td>790</td>\n",
       "      <td>280</td>\n",
       "      <td>700</td>\n",
       "      <td>474</td>\n",
       "      <td>151</td>\n",
       "      <td>54</td>\n",
       "      <td>408</td>\n",
       "      <td>2</td>\n",
       "    </tr>\n",
       "    <tr>\n",
       "      <th>3</th>\n",
       "      <td>2193</td>\n",
       "      <td>Air New Zealand  LLC</td>\n",
       "      <td>2.54</td>\n",
       "      <td>2000000.0</td>\n",
       "      <td>33118.34</td>\n",
       "      <td>78.0</td>\n",
       "      <td>68.0</td>\n",
       "      <td>16.68750</td>\n",
       "      <td>11.0</td>\n",
       "      <td>12.0</td>\n",
       "      <td>...</td>\n",
       "      <td>1053692</td>\n",
       "      <td>0.53</td>\n",
       "      <td>615</td>\n",
       "      <td>696</td>\n",
       "      <td>432</td>\n",
       "      <td>237</td>\n",
       "      <td>265</td>\n",
       "      <td>219</td>\n",
       "      <td>411</td>\n",
       "      <td>2</td>\n",
       "    </tr>\n",
       "    <tr>\n",
       "      <th>4</th>\n",
       "      <td>2401</td>\n",
       "      <td>All Aboard Florida- Operations, LLC</td>\n",
       "      <td>2.06</td>\n",
       "      <td>1000000.0</td>\n",
       "      <td>55000.00</td>\n",
       "      <td>8.0</td>\n",
       "      <td>3.0</td>\n",
       "      <td>4.06250</td>\n",
       "      <td>4.0</td>\n",
       "      <td>10.0</td>\n",
       "      <td>...</td>\n",
       "      <td>0</td>\n",
       "      <td>0</td>\n",
       "      <td>207</td>\n",
       "      <td>84</td>\n",
       "      <td>253</td>\n",
       "      <td>37</td>\n",
       "      <td>117</td>\n",
       "      <td>54</td>\n",
       "      <td>125</td>\n",
       "      <td>2</td>\n",
       "    </tr>\n",
       "  </tbody>\n",
       "</table>\n",
       "<p>5 rows × 33 columns</p>\n",
       "</div>"
      ],
      "text/plain": [
       "     ID                         Account_Name  Years_as_Customer  \\\n",
       "0  2123                   7-Eleven Inc.(USA)               1.64   \n",
       "1  1041               Purple Strategies, LLC               3.75   \n",
       "2  1565                         AbbVie, Inc.               1.38   \n",
       "3  2193                 Air New Zealand  LLC               2.54   \n",
       "4  2401  All Aboard Florida- Operations, LLC               2.06   \n",
       "\n",
       "   Monthly_FH_Quota  Sales_Order_ACV  Total_Services_Days  Paid_Days  \\\n",
       "0         1000000.0        132500.00                 36.0       21.0   \n",
       "1         5000000.0             0.00                 16.0        7.0   \n",
       "2         1000000.0        115500.00                 56.0       46.0   \n",
       "3         2000000.0         33118.34                 78.0       68.0   \n",
       "4         1000000.0         55000.00                  8.0        3.0   \n",
       "\n",
       "   Services_Days_Delivered  Analyst_Users  Business_Users   ...    \\\n",
       "0                 16.00000           10.0             6.0   ...     \n",
       "1                 11.25000           21.0            27.0   ...     \n",
       "2                 23.96875           19.0            80.0   ...     \n",
       "3                 16.68750           11.0            12.0   ...     \n",
       "4                  4.06250            4.0            10.0   ...     \n",
       "\n",
       "   Avg_FH_Usage Avg_%_FH_Usage Month_1_PG  Month_2_PG  Month_3_PG Month_4_PG  \\\n",
       "0        447698           0.45         48         243         104         74   \n",
       "1        658367           0.13        794        2193        4097        779   \n",
       "2        611746           0.61        790         280         700        474   \n",
       "3       1053692           0.53        615         696         432        237   \n",
       "4             0              0        207          84         253         37   \n",
       "\n",
       "  Month_5_PG  Month_6_PG  Avg_PG_Month  Output  \n",
       "0         82          24            96       3  \n",
       "1       1464         373          1617       1  \n",
       "2        151          54           408       2  \n",
       "3        265         219           411       2  \n",
       "4        117          54           125       2  \n",
       "\n",
       "[5 rows x 33 columns]"
      ]
     },
     "execution_count": 71,
     "metadata": {},
     "output_type": "execute_result"
    }
   ],
   "source": [
    "customer_data = pd.read_csv('/Users/Elizabeth.Schwandt/Desktop/customer_classifier.csv')\n",
    "customer_data.head()"
   ]
  },
  {
   "cell_type": "code",
   "execution_count": 72,
   "metadata": {
    "collapsed": false
   },
   "outputs": [
    {
     "data": {
      "text/plain": [
       "ID                         533\n",
       "Account_Name               533\n",
       "Years_as_Customer          533\n",
       "Monthly_FH_Quota           533\n",
       "Sales_Order_ACV            533\n",
       "Total_Services_Days        533\n",
       "Paid_Days                  533\n",
       "Services_Days_Delivered    533\n",
       "Analyst_Users              533\n",
       "Business_Users             533\n",
       "Total_Users                533\n",
       "%_Services_Delivered       533\n",
       "%_Services_Paid            533\n",
       "Total_Logins               533\n",
       "Unique_Users               533\n",
       "Avg_Logins                 533\n",
       "Avg_Unique_Logins          533\n",
       "Month_1_FH                 533\n",
       "Month_2_FH                 533\n",
       "Month_3_FH                 533\n",
       "Month_4_FH                 533\n",
       "Month_5_FH                 533\n",
       "Month_6_FH                 533\n",
       "Avg_FH_Usage               533\n",
       "Avg_%_FH_Usage             533\n",
       "Month_1_PG                 533\n",
       "Month_2_PG                 533\n",
       "Month_3_PG                 533\n",
       "Month_4_PG                 533\n",
       "Month_5_PG                 533\n",
       "Month_6_PG                 533\n",
       "Avg_PG_Month               533\n",
       "Output                     533\n",
       "dtype: int64"
      ]
     },
     "execution_count": 72,
     "metadata": {},
     "output_type": "execute_result"
    }
   ],
   "source": [
    "clean_data = customer_data.dropna()\n",
    "clean_data.count()"
   ]
  },
  {
   "cell_type": "code",
   "execution_count": 73,
   "metadata": {
    "collapsed": false
   },
   "outputs": [
    {
     "data": {
      "text/html": [
       "<div>\n",
       "<table border=\"1\" class=\"dataframe\">\n",
       "  <thead>\n",
       "    <tr style=\"text-align: right;\">\n",
       "      <th></th>\n",
       "      <th>ID</th>\n",
       "      <th>Years_as_Customer</th>\n",
       "      <th>Monthly_FH_Quota</th>\n",
       "      <th>Sales_Order_ACV</th>\n",
       "      <th>Total_Services_Days</th>\n",
       "      <th>Paid_Days</th>\n",
       "      <th>Services_Days_Delivered</th>\n",
       "      <th>Analyst_Users</th>\n",
       "      <th>Business_Users</th>\n",
       "      <th>Total_Users</th>\n",
       "      <th>...</th>\n",
       "      <th>Month_6_FH</th>\n",
       "      <th>Avg_FH_Usage</th>\n",
       "      <th>Month_1_PG</th>\n",
       "      <th>Month_2_PG</th>\n",
       "      <th>Month_3_PG</th>\n",
       "      <th>Month_4_PG</th>\n",
       "      <th>Month_5_PG</th>\n",
       "      <th>Month_6_PG</th>\n",
       "      <th>Avg_PG_Month</th>\n",
       "      <th>Output</th>\n",
       "    </tr>\n",
       "  </thead>\n",
       "  <tbody>\n",
       "    <tr>\n",
       "      <th>count</th>\n",
       "      <td>533.000000</td>\n",
       "      <td>533.000000</td>\n",
       "      <td>5.330000e+02</td>\n",
       "      <td>5.330000e+02</td>\n",
       "      <td>533.000000</td>\n",
       "      <td>533.000000</td>\n",
       "      <td>533.000000</td>\n",
       "      <td>533.000000</td>\n",
       "      <td>533.000000</td>\n",
       "      <td>533.000000</td>\n",
       "      <td>...</td>\n",
       "      <td>5.330000e+02</td>\n",
       "      <td>5.330000e+02</td>\n",
       "      <td>533.000000</td>\n",
       "      <td>533.000000</td>\n",
       "      <td>533.000000</td>\n",
       "      <td>533.000000</td>\n",
       "      <td>533.000000</td>\n",
       "      <td>533.000000</td>\n",
       "      <td>533.000000</td>\n",
       "      <td>533.000000</td>\n",
       "    </tr>\n",
       "    <tr>\n",
       "      <th>mean</th>\n",
       "      <td>1378.660413</td>\n",
       "      <td>1.891320</td>\n",
       "      <td>1.633878e+06</td>\n",
       "      <td>1.492982e+05</td>\n",
       "      <td>14.435497</td>\n",
       "      <td>7.372195</td>\n",
       "      <td>8.584321</td>\n",
       "      <td>82.547486</td>\n",
       "      <td>76.253283</td>\n",
       "      <td>158.800769</td>\n",
       "      <td>...</td>\n",
       "      <td>2.562057e+05</td>\n",
       "      <td>8.610161e+05</td>\n",
       "      <td>732.424015</td>\n",
       "      <td>776.806754</td>\n",
       "      <td>751.080675</td>\n",
       "      <td>783.574109</td>\n",
       "      <td>733.983114</td>\n",
       "      <td>561.041276</td>\n",
       "      <td>723.225141</td>\n",
       "      <td>2.258912</td>\n",
       "    </tr>\n",
       "    <tr>\n",
       "      <th>std</th>\n",
       "      <td>1035.933667</td>\n",
       "      <td>1.244409</td>\n",
       "      <td>4.448910e+06</td>\n",
       "      <td>4.555963e+05</td>\n",
       "      <td>47.092341</td>\n",
       "      <td>38.559465</td>\n",
       "      <td>58.064910</td>\n",
       "      <td>1373.982888</td>\n",
       "      <td>1028.457045</td>\n",
       "      <td>2394.865811</td>\n",
       "      <td>...</td>\n",
       "      <td>1.536496e+06</td>\n",
       "      <td>5.049082e+06</td>\n",
       "      <td>2199.122809</td>\n",
       "      <td>2468.517135</td>\n",
       "      <td>2087.752708</td>\n",
       "      <td>2152.106564</td>\n",
       "      <td>1963.003203</td>\n",
       "      <td>1564.400149</td>\n",
       "      <td>2007.077762</td>\n",
       "      <td>0.712760</td>\n",
       "    </tr>\n",
       "    <tr>\n",
       "      <th>min</th>\n",
       "      <td>0.000000</td>\n",
       "      <td>0.020000</td>\n",
       "      <td>0.000000e+00</td>\n",
       "      <td>0.000000e+00</td>\n",
       "      <td>0.000000</td>\n",
       "      <td>0.000000</td>\n",
       "      <td>0.000000</td>\n",
       "      <td>0.000000</td>\n",
       "      <td>0.000000</td>\n",
       "      <td>0.000000</td>\n",
       "      <td>...</td>\n",
       "      <td>0.000000e+00</td>\n",
       "      <td>0.000000e+00</td>\n",
       "      <td>0.000000</td>\n",
       "      <td>0.000000</td>\n",
       "      <td>0.000000</td>\n",
       "      <td>0.000000</td>\n",
       "      <td>0.000000</td>\n",
       "      <td>0.000000</td>\n",
       "      <td>0.000000</td>\n",
       "      <td>1.000000</td>\n",
       "    </tr>\n",
       "    <tr>\n",
       "      <th>25%</th>\n",
       "      <td>0.000000</td>\n",
       "      <td>1.000000</td>\n",
       "      <td>1.000000e+06</td>\n",
       "      <td>0.000000e+00</td>\n",
       "      <td>0.000000</td>\n",
       "      <td>0.000000</td>\n",
       "      <td>0.000000</td>\n",
       "      <td>1.000000</td>\n",
       "      <td>0.000000</td>\n",
       "      <td>3.000000</td>\n",
       "      <td>...</td>\n",
       "      <td>0.000000e+00</td>\n",
       "      <td>0.000000e+00</td>\n",
       "      <td>0.000000</td>\n",
       "      <td>0.000000</td>\n",
       "      <td>0.000000</td>\n",
       "      <td>0.000000</td>\n",
       "      <td>0.000000</td>\n",
       "      <td>0.000000</td>\n",
       "      <td>0.000000</td>\n",
       "      <td>2.000000</td>\n",
       "    </tr>\n",
       "    <tr>\n",
       "      <th>50%</th>\n",
       "      <td>1613.000000</td>\n",
       "      <td>1.770000</td>\n",
       "      <td>1.000000e+06</td>\n",
       "      <td>3.500000e+04</td>\n",
       "      <td>6.000000</td>\n",
       "      <td>0.000000</td>\n",
       "      <td>1.500000</td>\n",
       "      <td>3.000000</td>\n",
       "      <td>2.000000</td>\n",
       "      <td>6.000000</td>\n",
       "      <td>...</td>\n",
       "      <td>1.880000e+02</td>\n",
       "      <td>4.536000e+03</td>\n",
       "      <td>69.000000</td>\n",
       "      <td>74.000000</td>\n",
       "      <td>119.000000</td>\n",
       "      <td>137.000000</td>\n",
       "      <td>112.000000</td>\n",
       "      <td>69.000000</td>\n",
       "      <td>189.000000</td>\n",
       "      <td>2.000000</td>\n",
       "    </tr>\n",
       "    <tr>\n",
       "      <th>75%</th>\n",
       "      <td>2305.000000</td>\n",
       "      <td>2.840000</td>\n",
       "      <td>1.000000e+06</td>\n",
       "      <td>1.193500e+05</td>\n",
       "      <td>12.000000</td>\n",
       "      <td>1.000000</td>\n",
       "      <td>5.000000</td>\n",
       "      <td>6.000000</td>\n",
       "      <td>10.000000</td>\n",
       "      <td>16.000000</td>\n",
       "      <td>...</td>\n",
       "      <td>2.186200e+04</td>\n",
       "      <td>1.352360e+05</td>\n",
       "      <td>708.000000</td>\n",
       "      <td>653.000000</td>\n",
       "      <td>737.000000</td>\n",
       "      <td>741.000000</td>\n",
       "      <td>691.000000</td>\n",
       "      <td>524.000000</td>\n",
       "      <td>745.000000</td>\n",
       "      <td>3.000000</td>\n",
       "    </tr>\n",
       "    <tr>\n",
       "      <th>max</th>\n",
       "      <td>2891.000000</td>\n",
       "      <td>7.580000</td>\n",
       "      <td>8.433333e+07</td>\n",
       "      <td>5.642494e+06</td>\n",
       "      <td>832.500000</td>\n",
       "      <td>723.500000</td>\n",
       "      <td>1282.937500</td>\n",
       "      <td>30127.000000</td>\n",
       "      <td>21403.000000</td>\n",
       "      <td>51530.000000</td>\n",
       "      <td>...</td>\n",
       "      <td>1.883500e+07</td>\n",
       "      <td>7.131415e+07</td>\n",
       "      <td>39903.000000</td>\n",
       "      <td>45853.000000</td>\n",
       "      <td>37043.000000</td>\n",
       "      <td>34215.000000</td>\n",
       "      <td>30705.000000</td>\n",
       "      <td>27322.000000</td>\n",
       "      <td>35840.000000</td>\n",
       "      <td>3.000000</td>\n",
       "    </tr>\n",
       "  </tbody>\n",
       "</table>\n",
       "<p>8 rows × 27 columns</p>\n",
       "</div>"
      ],
      "text/plain": [
       "                ID  Years_as_Customer  Monthly_FH_Quota  Sales_Order_ACV  \\\n",
       "count   533.000000         533.000000      5.330000e+02     5.330000e+02   \n",
       "mean   1378.660413           1.891320      1.633878e+06     1.492982e+05   \n",
       "std    1035.933667           1.244409      4.448910e+06     4.555963e+05   \n",
       "min       0.000000           0.020000      0.000000e+00     0.000000e+00   \n",
       "25%       0.000000           1.000000      1.000000e+06     0.000000e+00   \n",
       "50%    1613.000000           1.770000      1.000000e+06     3.500000e+04   \n",
       "75%    2305.000000           2.840000      1.000000e+06     1.193500e+05   \n",
       "max    2891.000000           7.580000      8.433333e+07     5.642494e+06   \n",
       "\n",
       "       Total_Services_Days   Paid_Days  Services_Days_Delivered  \\\n",
       "count           533.000000  533.000000               533.000000   \n",
       "mean             14.435497    7.372195                 8.584321   \n",
       "std              47.092341   38.559465                58.064910   \n",
       "min               0.000000    0.000000                 0.000000   \n",
       "25%               0.000000    0.000000                 0.000000   \n",
       "50%               6.000000    0.000000                 1.500000   \n",
       "75%              12.000000    1.000000                 5.000000   \n",
       "max             832.500000  723.500000              1282.937500   \n",
       "\n",
       "       Analyst_Users  Business_Users   Total_Users     ...        Month_6_FH  \\\n",
       "count     533.000000      533.000000    533.000000     ...      5.330000e+02   \n",
       "mean       82.547486       76.253283    158.800769     ...      2.562057e+05   \n",
       "std      1373.982888     1028.457045   2394.865811     ...      1.536496e+06   \n",
       "min         0.000000        0.000000      0.000000     ...      0.000000e+00   \n",
       "25%         1.000000        0.000000      3.000000     ...      0.000000e+00   \n",
       "50%         3.000000        2.000000      6.000000     ...      1.880000e+02   \n",
       "75%         6.000000       10.000000     16.000000     ...      2.186200e+04   \n",
       "max     30127.000000    21403.000000  51530.000000     ...      1.883500e+07   \n",
       "\n",
       "       Avg_FH_Usage    Month_1_PG    Month_2_PG    Month_3_PG    Month_4_PG  \\\n",
       "count  5.330000e+02    533.000000    533.000000    533.000000    533.000000   \n",
       "mean   8.610161e+05    732.424015    776.806754    751.080675    783.574109   \n",
       "std    5.049082e+06   2199.122809   2468.517135   2087.752708   2152.106564   \n",
       "min    0.000000e+00      0.000000      0.000000      0.000000      0.000000   \n",
       "25%    0.000000e+00      0.000000      0.000000      0.000000      0.000000   \n",
       "50%    4.536000e+03     69.000000     74.000000    119.000000    137.000000   \n",
       "75%    1.352360e+05    708.000000    653.000000    737.000000    741.000000   \n",
       "max    7.131415e+07  39903.000000  45853.000000  37043.000000  34215.000000   \n",
       "\n",
       "         Month_5_PG    Month_6_PG  Avg_PG_Month      Output  \n",
       "count    533.000000    533.000000    533.000000  533.000000  \n",
       "mean     733.983114    561.041276    723.225141    2.258912  \n",
       "std     1963.003203   1564.400149   2007.077762    0.712760  \n",
       "min        0.000000      0.000000      0.000000    1.000000  \n",
       "25%        0.000000      0.000000      0.000000    2.000000  \n",
       "50%      112.000000     69.000000    189.000000    2.000000  \n",
       "75%      691.000000    524.000000    745.000000    3.000000  \n",
       "max    30705.000000  27322.000000  35840.000000    3.000000  \n",
       "\n",
       "[8 rows x 27 columns]"
      ]
     },
     "execution_count": 73,
     "metadata": {},
     "output_type": "execute_result"
    }
   ],
   "source": [
    "clean_data.describe()"
   ]
  },
  {
   "cell_type": "code",
   "execution_count": 75,
   "metadata": {
    "collapsed": false
   },
   "outputs": [
    {
     "data": {
      "text/plain": [
       "ID                           int64\n",
       "Account_Name                object\n",
       "Years_as_Customer          float64\n",
       "Monthly_FH_Quota           float64\n",
       "Sales_Order_ACV            float64\n",
       "Total_Services_Days        float64\n",
       "Paid_Days                  float64\n",
       "Services_Days_Delivered    float64\n",
       "Analyst_Users              float64\n",
       "Business_Users             float64\n",
       "Total_Users                float64\n",
       "%_Services_Delivered        object\n",
       "%_Services_Paid             object\n",
       "Total_Logins                 int64\n",
       "Unique_Users                 int64\n",
       "Avg_Logins                  object\n",
       "Avg_Unique_Logins           object\n",
       "Month_1_FH                 float64\n",
       "Month_2_FH                   int64\n",
       "Month_3_FH                   int64\n",
       "Month_4_FH                   int64\n",
       "Month_5_FH                 float64\n",
       "Month_6_FH                   int64\n",
       "Avg_FH_Usage                 int64\n",
       "Avg_%_FH_Usage              object\n",
       "Month_1_PG                   int64\n",
       "Month_2_PG                   int64\n",
       "Month_3_PG                   int64\n",
       "Month_4_PG                   int64\n",
       "Month_5_PG                   int64\n",
       "Month_6_PG                   int64\n",
       "Avg_PG_Month                 int64\n",
       "Output                       int64\n",
       "dtype: object"
      ]
     },
     "execution_count": 75,
     "metadata": {},
     "output_type": "execute_result"
    }
   ],
   "source": [
    "clean_data.dtypes"
   ]
  },
  {
   "cell_type": "code",
   "execution_count": 96,
   "metadata": {
    "collapsed": false
   },
   "outputs": [
    {
     "ename": "ValueError",
     "evalue": "invalid literal for int() with base 10: 'Avg_Unique_Logins'",
     "output_type": "error",
     "traceback": [
      "\u001b[0;31m---------------------------------------------------------------------------\u001b[0m",
      "\u001b[0;31mValueError\u001b[0m                                Traceback (most recent call last)",
      "\u001b[0;32m<ipython-input-96-ef2976d4f3f7>\u001b[0m in \u001b[0;36m<module>\u001b[0;34m()\u001b[0m\n\u001b[0;32m----> 1\u001b[0;31m \u001b[0mclean_data_2\u001b[0m \u001b[0;34m=\u001b[0m \u001b[0mint\u001b[0m\u001b[0;34m(\u001b[0m\u001b[0;34m'Avg_Unique_Logins'\u001b[0m\u001b[0;34m)\u001b[0m\u001b[0;34m\u001b[0m\u001b[0m\n\u001b[0m",
      "\u001b[0;31mValueError\u001b[0m: invalid literal for int() with base 10: 'Avg_Unique_Logins'"
     ]
    }
   ],
   "source": [
    "clean_data_2 = int('Avg_Unique_Logins')"
   ]
  },
  {
   "cell_type": "code",
   "execution_count": 76,
   "metadata": {
    "collapsed": false,
    "scrolled": true
   },
   "outputs": [
    {
     "data": {
      "image/png": "[encoded data removed]",
      "text/plain": [
       "<matplotlib.figure.Figure at 0x11689d410>"
      ]
     },
     "metadata": {},
     "output_type": "display_data"
    }
   ],
   "source": [
    "#Distribution of Years as a customer\n",
    "\n",
    "clean_data['Years_as_Customer'].hist(bins=20)\n",
    "plt.show()"
   ]
  },
  {
   "cell_type": "code",
   "execution_count": 77,
   "metadata": {
    "collapsed": false,
    "scrolled": true
   },
   "outputs": [
    {
     "data": {
      "image/png": "[encoded data removed]",
      "text/plain": [
       "<matplotlib.figure.Figure at 0x1166f06d0>"
      ]
     },
     "metadata": {},
     "output_type": "display_data"
    }
   ],
   "source": [
    "#Plot to show correlation between Firehose Usage and Page Views each month. I would expect there to be a positive correlation.\n",
    "\n",
    "plt.figure()\n",
    "plt.plot(clean_data.Avg_FH_Usage, clean_data.Avg_PG_Month)\n",
    "plt.show()"
   ]
  },
  {
   "cell_type": "code",
   "execution_count": 78,
   "metadata": {
    "collapsed": true
   },
   "outputs": [],
   "source": [
    "log_columns = ['Avg_FH_Usage', 'Avg_PG_Month',]\n",
    "log_clean_data = clean_data.copy()\n",
    "log_clean_data[log_columns] = log_clean_data[log_columns].apply(np.log10)"
   ]
  },
  {
   "cell_type": "code",
   "execution_count": 13,
   "metadata": {
    "collapsed": false
   },
   "outputs": [
    {
     "data": {
      "image/png": "[encoded data removed]",
      "text/plain": [
       "<matplotlib.figure.Figure at 0x116128490>"
      ]
     },
     "metadata": {},
     "output_type": "display_data"
    }
   ],
   "source": [
    "#Log plot between Firehose Usage and Page Views\n",
    "\n",
    "sns.lmplot('Avg_FH_Usage', 'Avg_PG_Month', log_clean_data)\n",
    "sns.plt.show()"
   ]
  },
  {
   "cell_type": "code",
   "execution_count": 79,
   "metadata": {
    "collapsed": false
   },
   "outputs": [
    {
     "data": {
      "image/png": "[encoded data removed]",
      "text/plain": [
       "<matplotlib.figure.Figure at 0x11689df90>"
      ]
     },
     "metadata": {},
     "output_type": "display_data"
    }
   ],
   "source": [
    "clean_data.boxplot(column='Avg_FH_Usage', by = 'Output')\n",
    "plt.show()"
   ]
  },
  {
   "cell_type": "code",
   "execution_count": 80,
   "metadata": {
    "collapsed": false
   },
   "outputs": [],
   "source": [
    "#Split data into train and test groups. Confirmed success with length below. \n",
    "train, test = train_test_split(clean_data, train_size=.75, test_size=.25)"
   ]
  },
  {
   "cell_type": "code",
   "execution_count": 81,
   "metadata": {
    "collapsed": false
   },
   "outputs": [
    {
     "data": {
      "text/plain": [
       "399"
      ]
     },
     "execution_count": 81,
     "metadata": {},
     "output_type": "execute_result"
    }
   ],
   "source": [
    "len(train)"
   ]
  },
  {
   "cell_type": "code",
   "execution_count": 82,
   "metadata": {
    "collapsed": false
   },
   "outputs": [
    {
     "data": {
      "text/plain": [
       "134"
      ]
     },
     "execution_count": 82,
     "metadata": {},
     "output_type": "execute_result"
    }
   ],
   "source": [
    "len(test)"
   ]
  },
  {
   "cell_type": "code",
   "execution_count": 83,
   "metadata": {
    "collapsed": false
   },
   "outputs": [
    {
     "data": {
      "text/html": [
       "<div>\n",
       "<table border=\"1\" class=\"dataframe\">\n",
       "  <thead>\n",
       "    <tr style=\"text-align: right;\">\n",
       "      <th>col_0</th>\n",
       "      <th>count</th>\n",
       "    </tr>\n",
       "    <tr>\n",
       "      <th>Output</th>\n",
       "      <th></th>\n",
       "    </tr>\n",
       "  </thead>\n",
       "  <tbody>\n",
       "    <tr>\n",
       "      <th>1</th>\n",
       "      <td>69</td>\n",
       "    </tr>\n",
       "    <tr>\n",
       "      <th>2</th>\n",
       "      <td>154</td>\n",
       "    </tr>\n",
       "    <tr>\n",
       "      <th>3</th>\n",
       "      <td>176</td>\n",
       "    </tr>\n",
       "  </tbody>\n",
       "</table>\n",
       "</div>"
      ],
      "text/plain": [
       "col_0   count\n",
       "Output       \n",
       "1          69\n",
       "2         154\n",
       "3         176"
      ]
     },
     "execution_count": 83,
     "metadata": {},
     "output_type": "execute_result"
    }
   ],
   "source": [
    "train_output = pd.crosstab(index=train[\"Output\"],  \n",
    "                              columns=\"count\")      \n",
    "\n",
    "train_output"
   ]
  },
  {
   "cell_type": "code",
   "execution_count": 84,
   "metadata": {
    "collapsed": false
   },
   "outputs": [
    {
     "data": {
      "text/html": [
       "<div>\n",
       "<table border=\"1\" class=\"dataframe\">\n",
       "  <thead>\n",
       "    <tr style=\"text-align: right;\">\n",
       "      <th>col_0</th>\n",
       "      <th>count</th>\n",
       "    </tr>\n",
       "    <tr>\n",
       "      <th>Output</th>\n",
       "      <th></th>\n",
       "    </tr>\n",
       "  </thead>\n",
       "  <tbody>\n",
       "    <tr>\n",
       "      <th>1</th>\n",
       "      <td>15</td>\n",
       "    </tr>\n",
       "    <tr>\n",
       "      <th>2</th>\n",
       "      <td>73</td>\n",
       "    </tr>\n",
       "    <tr>\n",
       "      <th>3</th>\n",
       "      <td>46</td>\n",
       "    </tr>\n",
       "  </tbody>\n",
       "</table>\n",
       "</div>"
      ],
      "text/plain": [
       "col_0   count\n",
       "Output       \n",
       "1          15\n",
       "2          73\n",
       "3          46"
      ]
     },
     "execution_count": 84,
     "metadata": {},
     "output_type": "execute_result"
    }
   ],
   "source": [
    "test_output = pd.crosstab(index=test[\"Output\"],  \n",
    "                              columns=\"count\")      \n",
    "\n",
    "test_output"
   ]
  },
  {
   "cell_type": "code",
   "execution_count": 88,
   "metadata": {
    "collapsed": false
   },
   "outputs": [
    {
     "name": "stdout",
     "output_type": "stream",
     "text": [
      "*Target 303    3\n",
      "328    3\n",
      "175    2\n",
      "562    2\n",
      "330    3\n",
      "Name: Output, dtype: int64\n"
     ]
    }
   ],
   "source": [
    "target_names = train['Output']\n",
    "print \"*Target\",target_names.head()"
   ]
  },
  {
   "cell_type": "code",
   "execution_count": 90,
   "metadata": {
    "collapsed": false
   },
   "outputs": [
    {
     "data": {
      "text/html": [
       "<div>\n",
       "<table border=\"1\" class=\"dataframe\">\n",
       "  <thead>\n",
       "    <tr style=\"text-align: right;\">\n",
       "      <th></th>\n",
       "      <th>ID</th>\n",
       "      <th>Account_Name</th>\n",
       "      <th>Years_as_Customer</th>\n",
       "      <th>Monthly_FH_Quota</th>\n",
       "      <th>Sales_Order_ACV</th>\n",
       "      <th>Total_Services_Days</th>\n",
       "      <th>Paid_Days</th>\n",
       "      <th>Services_Days_Delivered</th>\n",
       "      <th>Analyst_Users</th>\n",
       "      <th>Business_Users</th>\n",
       "      <th>...</th>\n",
       "      <th>Month_6_FH</th>\n",
       "      <th>Avg_FH_Usage</th>\n",
       "      <th>Avg_%_FH_Usage</th>\n",
       "      <th>Month_1_PG</th>\n",
       "      <th>Month_2_PG</th>\n",
       "      <th>Month_3_PG</th>\n",
       "      <th>Month_4_PG</th>\n",
       "      <th>Month_5_PG</th>\n",
       "      <th>Month_6_PG</th>\n",
       "      <th>Avg_PG_Month</th>\n",
       "    </tr>\n",
       "  </thead>\n",
       "  <tbody>\n",
       "    <tr>\n",
       "      <th>303</th>\n",
       "      <td>0</td>\n",
       "      <td>Facility Central de Servicios Ltda</td>\n",
       "      <td>2.00</td>\n",
       "      <td>1000000.0</td>\n",
       "      <td>11021.0</td>\n",
       "      <td>0.0</td>\n",
       "      <td>0.0</td>\n",
       "      <td>0.0000</td>\n",
       "      <td>1.0</td>\n",
       "      <td>1.0</td>\n",
       "      <td>...</td>\n",
       "      <td>0</td>\n",
       "      <td>0</td>\n",
       "      <td>0</td>\n",
       "      <td>0</td>\n",
       "      <td>0</td>\n",
       "      <td>0</td>\n",
       "      <td>0</td>\n",
       "      <td>0</td>\n",
       "      <td>0</td>\n",
       "      <td>0</td>\n",
       "    </tr>\n",
       "    <tr>\n",
       "      <th>328</th>\n",
       "      <td>0</td>\n",
       "      <td>St. Leon</td>\n",
       "      <td>2.00</td>\n",
       "      <td>1000000.0</td>\n",
       "      <td>16316.0</td>\n",
       "      <td>0.0</td>\n",
       "      <td>0.0</td>\n",
       "      <td>0.0000</td>\n",
       "      <td>0.0</td>\n",
       "      <td>0.0</td>\n",
       "      <td>...</td>\n",
       "      <td>87</td>\n",
       "      <td>45</td>\n",
       "      <td>0</td>\n",
       "      <td>0</td>\n",
       "      <td>0</td>\n",
       "      <td>0</td>\n",
       "      <td>0</td>\n",
       "      <td>0</td>\n",
       "      <td>0</td>\n",
       "      <td>0</td>\n",
       "    </tr>\n",
       "    <tr>\n",
       "      <th>175</th>\n",
       "      <td>2451</td>\n",
       "      <td>Glock Inc. - Swarm Agency</td>\n",
       "      <td>0.82</td>\n",
       "      <td>1000000.0</td>\n",
       "      <td>0.0</td>\n",
       "      <td>9.0</td>\n",
       "      <td>0.0</td>\n",
       "      <td>1.5000</td>\n",
       "      <td>2.0</td>\n",
       "      <td>2.0</td>\n",
       "      <td>...</td>\n",
       "      <td>11</td>\n",
       "      <td>45842</td>\n",
       "      <td>0.05</td>\n",
       "      <td>191</td>\n",
       "      <td>94</td>\n",
       "      <td>238</td>\n",
       "      <td>151</td>\n",
       "      <td>122</td>\n",
       "      <td>185</td>\n",
       "      <td>164</td>\n",
       "    </tr>\n",
       "    <tr>\n",
       "      <th>562</th>\n",
       "      <td>983</td>\n",
       "      <td>Siegel+Gale</td>\n",
       "      <td>3.82</td>\n",
       "      <td>1000000.0</td>\n",
       "      <td>0.0</td>\n",
       "      <td>9.0</td>\n",
       "      <td>0.0</td>\n",
       "      <td>3.6875</td>\n",
       "      <td>5.0</td>\n",
       "      <td>0.0</td>\n",
       "      <td>...</td>\n",
       "      <td>78702</td>\n",
       "      <td>21392</td>\n",
       "      <td>0.02</td>\n",
       "      <td>134</td>\n",
       "      <td>512</td>\n",
       "      <td>738</td>\n",
       "      <td>117</td>\n",
       "      <td>398</td>\n",
       "      <td>69</td>\n",
       "      <td>328</td>\n",
       "    </tr>\n",
       "    <tr>\n",
       "      <th>330</th>\n",
       "      <td>0</td>\n",
       "      <td>Substance</td>\n",
       "      <td>2.00</td>\n",
       "      <td>1000000.0</td>\n",
       "      <td>67000.0</td>\n",
       "      <td>0.0</td>\n",
       "      <td>0.0</td>\n",
       "      <td>0.0000</td>\n",
       "      <td>2.0</td>\n",
       "      <td>0.0</td>\n",
       "      <td>...</td>\n",
       "      <td>0</td>\n",
       "      <td>0</td>\n",
       "      <td>0</td>\n",
       "      <td>0</td>\n",
       "      <td>0</td>\n",
       "      <td>0</td>\n",
       "      <td>0</td>\n",
       "      <td>0</td>\n",
       "      <td>0</td>\n",
       "      <td>0</td>\n",
       "    </tr>\n",
       "  </tbody>\n",
       "</table>\n",
       "<p>5 rows × 32 columns</p>\n",
       "</div>"
      ],
      "text/plain": [
       "       ID                        Account_Name  Years_as_Customer  \\\n",
       "303     0  Facility Central de Servicios Ltda               2.00   \n",
       "328     0                            St. Leon               2.00   \n",
       "175  2451           Glock Inc. - Swarm Agency               0.82   \n",
       "562   983                         Siegel+Gale               3.82   \n",
       "330     0                           Substance               2.00   \n",
       "\n",
       "     Monthly_FH_Quota  Sales_Order_ACV  Total_Services_Days  Paid_Days  \\\n",
       "303         1000000.0          11021.0                  0.0        0.0   \n",
       "328         1000000.0          16316.0                  0.0        0.0   \n",
       "175         1000000.0              0.0                  9.0        0.0   \n",
       "562         1000000.0              0.0                  9.0        0.0   \n",
       "330         1000000.0          67000.0                  0.0        0.0   \n",
       "\n",
       "     Services_Days_Delivered  Analyst_Users  Business_Users      ...       \\\n",
       "303                   0.0000            1.0             1.0      ...        \n",
       "328                   0.0000            0.0             0.0      ...        \n",
       "175                   1.5000            2.0             2.0      ...        \n",
       "562                   3.6875            5.0             0.0      ...        \n",
       "330                   0.0000            2.0             0.0      ...        \n",
       "\n",
       "     Month_6_FH Avg_FH_Usage Avg_%_FH_Usage  Month_1_PG  Month_2_PG  \\\n",
       "303           0            0              0           0           0   \n",
       "328          87           45              0           0           0   \n",
       "175          11        45842           0.05         191          94   \n",
       "562       78702        21392           0.02         134         512   \n",
       "330           0            0              0           0           0   \n",
       "\n",
       "    Month_3_PG Month_4_PG  Month_5_PG  Month_6_PG  Avg_PG_Month  \n",
       "303          0          0           0           0             0  \n",
       "328          0          0           0           0             0  \n",
       "175        238        151         122         185           164  \n",
       "562        738        117         398          69           328  \n",
       "330          0          0           0           0             0  \n",
       "\n",
       "[5 rows x 32 columns]"
      ]
     },
     "execution_count": 90,
     "metadata": {},
     "output_type": "execute_result"
    }
   ],
   "source": [
    "feature_names = train.ix[:,train.columns != 'Output']\n",
    "feature_names.head()"
   ]
  },
  {
   "cell_type": "code",
   "execution_count": 91,
   "metadata": {
    "collapsed": false
   },
   "outputs": [
    {
     "ename": "ValueError",
     "evalue": "could not convert string to float: #DIV/0!",
     "output_type": "error",
     "traceback": [
      "\u001b[0;31m---------------------------------------------------------------------------\u001b[0m",
      "\u001b[0;31mValueError\u001b[0m                                Traceback (most recent call last)",
      "\u001b[0;32m<ipython-input-91-60e33048fcb1>\u001b[0m in \u001b[0;36m<module>\u001b[0;34m()\u001b[0m\n\u001b[1;32m      2\u001b[0m \u001b[0mX\u001b[0m \u001b[0;34m=\u001b[0m \u001b[0mfeature_names\u001b[0m\u001b[0;34m\u001b[0m\u001b[0m\n\u001b[1;32m      3\u001b[0m \u001b[0mtrain_dt\u001b[0m \u001b[0;34m=\u001b[0m \u001b[0mDecisionTreeClassifier\u001b[0m\u001b[0;34m(\u001b[0m\u001b[0mmax_depth\u001b[0m\u001b[0;34m=\u001b[0m\u001b[0;36m16\u001b[0m\u001b[0;34m)\u001b[0m\u001b[0;34m\u001b[0m\u001b[0m\n\u001b[0;32m----> 4\u001b[0;31m \u001b[0mtrain_dt\u001b[0m\u001b[0;34m.\u001b[0m\u001b[0mfit\u001b[0m\u001b[0;34m(\u001b[0m\u001b[0mX\u001b[0m\u001b[0;34m,\u001b[0m \u001b[0my\u001b[0m\u001b[0;34m)\u001b[0m\u001b[0;34m\u001b[0m\u001b[0m\n\u001b[0m",
      "\u001b[0;32m//anaconda/lib/python2.7/site-packages/sklearn/tree/tree.pyc\u001b[0m in \u001b[0;36mfit\u001b[0;34m(self, X, y, sample_weight, check_input, X_idx_sorted)\u001b[0m\n\u001b[1;32m    737\u001b[0m             \u001b[0msample_weight\u001b[0m\u001b[0;34m=\u001b[0m\u001b[0msample_weight\u001b[0m\u001b[0;34m,\u001b[0m\u001b[0;34m\u001b[0m\u001b[0m\n\u001b[1;32m    738\u001b[0m             \u001b[0mcheck_input\u001b[0m\u001b[0;34m=\u001b[0m\u001b[0mcheck_input\u001b[0m\u001b[0;34m,\u001b[0m\u001b[0;34m\u001b[0m\u001b[0m\n\u001b[0;32m--> 739\u001b[0;31m             X_idx_sorted=X_idx_sorted)\n\u001b[0m\u001b[1;32m    740\u001b[0m         \u001b[0;32mreturn\u001b[0m \u001b[0mself\u001b[0m\u001b[0;34m\u001b[0m\u001b[0m\n\u001b[1;32m    741\u001b[0m \u001b[0;34m\u001b[0m\u001b[0m\n",
      "\u001b[0;32m//anaconda/lib/python2.7/site-packages/sklearn/tree/tree.pyc\u001b[0m in \u001b[0;36mfit\u001b[0;34m(self, X, y, sample_weight, check_input, X_idx_sorted)\u001b[0m\n\u001b[1;32m    120\u001b[0m         \u001b[0mrandom_state\u001b[0m \u001b[0;34m=\u001b[0m \u001b[0mcheck_random_state\u001b[0m\u001b[0;34m(\u001b[0m\u001b[0mself\u001b[0m\u001b[0;34m.\u001b[0m\u001b[0mrandom_state\u001b[0m\u001b[0;34m)\u001b[0m\u001b[0;34m\u001b[0m\u001b[0m\n\u001b[1;32m    121\u001b[0m         \u001b[0;32mif\u001b[0m \u001b[0mcheck_input\u001b[0m\u001b[0;34m:\u001b[0m\u001b[0;34m\u001b[0m\u001b[0m\n\u001b[0;32m--> 122\u001b[0;31m             \u001b[0mX\u001b[0m \u001b[0;34m=\u001b[0m \u001b[0mcheck_array\u001b[0m\u001b[0;34m(\u001b[0m\u001b[0mX\u001b[0m\u001b[0;34m,\u001b[0m \u001b[0mdtype\u001b[0m\u001b[0;34m=\u001b[0m\u001b[0mDTYPE\u001b[0m\u001b[0;34m,\u001b[0m \u001b[0maccept_sparse\u001b[0m\u001b[0;34m=\u001b[0m\u001b[0;34m\"csc\"\u001b[0m\u001b[0;34m)\u001b[0m\u001b[0;34m\u001b[0m\u001b[0m\n\u001b[0m\u001b[1;32m    123\u001b[0m             \u001b[0my\u001b[0m \u001b[0;34m=\u001b[0m \u001b[0mcheck_array\u001b[0m\u001b[0;34m(\u001b[0m\u001b[0my\u001b[0m\u001b[0;34m,\u001b[0m \u001b[0mensure_2d\u001b[0m\u001b[0;34m=\u001b[0m\u001b[0mFalse\u001b[0m\u001b[0;34m,\u001b[0m \u001b[0mdtype\u001b[0m\u001b[0;34m=\u001b[0m\u001b[0mNone\u001b[0m\u001b[0;34m)\u001b[0m\u001b[0;34m\u001b[0m\u001b[0m\n\u001b[1;32m    124\u001b[0m             \u001b[0;32mif\u001b[0m \u001b[0missparse\u001b[0m\u001b[0;34m(\u001b[0m\u001b[0mX\u001b[0m\u001b[0;34m)\u001b[0m\u001b[0;34m:\u001b[0m\u001b[0;34m\u001b[0m\u001b[0m\n",
      "\u001b[0;32m//anaconda/lib/python2.7/site-packages/sklearn/utils/validation.pyc\u001b[0m in \u001b[0;36mcheck_array\u001b[0;34m(array, accept_sparse, dtype, order, copy, force_all_finite, ensure_2d, allow_nd, ensure_min_samples, ensure_min_features, warn_on_dtype, estimator)\u001b[0m\n\u001b[1;32m    380\u001b[0m                                       force_all_finite)\n\u001b[1;32m    381\u001b[0m     \u001b[0;32melse\u001b[0m\u001b[0;34m:\u001b[0m\u001b[0;34m\u001b[0m\u001b[0m\n\u001b[0;32m--> 382\u001b[0;31m         \u001b[0marray\u001b[0m \u001b[0;34m=\u001b[0m \u001b[0mnp\u001b[0m\u001b[0;34m.\u001b[0m\u001b[0marray\u001b[0m\u001b[0;34m(\u001b[0m\u001b[0marray\u001b[0m\u001b[0;34m,\u001b[0m \u001b[0mdtype\u001b[0m\u001b[0;34m=\u001b[0m\u001b[0mdtype\u001b[0m\u001b[0;34m,\u001b[0m \u001b[0morder\u001b[0m\u001b[0;34m=\u001b[0m\u001b[0morder\u001b[0m\u001b[0;34m,\u001b[0m \u001b[0mcopy\u001b[0m\u001b[0;34m=\u001b[0m\u001b[0mcopy\u001b[0m\u001b[0;34m)\u001b[0m\u001b[0;34m\u001b[0m\u001b[0m\n\u001b[0m\u001b[1;32m    383\u001b[0m \u001b[0;34m\u001b[0m\u001b[0m\n\u001b[1;32m    384\u001b[0m         \u001b[0;32mif\u001b[0m \u001b[0mensure_2d\u001b[0m\u001b[0;34m:\u001b[0m\u001b[0;34m\u001b[0m\u001b[0m\n",
      "\u001b[0;31mValueError\u001b[0m: could not convert string to float: #DIV/0!"
     ]
    }
   ],
   "source": [
    "y = target_names\n",
    "X = feature_names\n",
    "train_dt = DecisionTreeClassifier(max_depth=16)\n",
    "train_dt.fit(X, y)"
   ]
  },
  {
   "cell_type": "code",
   "execution_count": null,
   "metadata": {
    "collapsed": true
   },
   "outputs": [],
   "source": []
  },
  {
   "cell_type": "code",
   "execution_count": null,
   "metadata": {
    "collapsed": true
   },
   "outputs": [],
   "source": [
    "scores = cross_val_score(model, X, y, scoring='roc_auc', cv=5)\n",
    "print('CV AUC {}, Average AUC {}'.format(scores, scores.mean()))"
   ]
  },
  {
   "cell_type": "code",
   "execution_count": null,
   "metadata": {
    "collapsed": true
   },
   "outputs": [],
   "source": [
    "model = DecisionTreeClassifier(\n",
    "                max_depth = 16,\n",
    "                min_samples_leaf = 5)\n",
    "\n",
    "model.fit(X, y)\n",
    "build_tree_image(model)"
   ]
  },
  {
   "cell_type": "code",
   "execution_count": null,
   "metadata": {
    "collapsed": true
   },
   "outputs": [],
   "source": [
    "model = RandomForestClassifier(n_estimators = 100)\n",
    "    \n",
    "model.fit(X, y)"
   ]
  },
  {
   "cell_type": "code",
   "execution_count": null,
   "metadata": {
    "collapsed": true
   },
   "outputs": [],
   "source": [
    "features = X.columns\n",
    "feature_importances = model.feature_importances_\n",
    "\n",
    "features_df = pd.DataFrame({'Features': features, 'Importance Score': feature_importances})\n",
    "features_df.sort_values('Importance Score', inplace=True, ascending=False)\n",
    "\n",
    "features_df.head()"
   ]
  },
  {
   "cell_type": "code",
   "execution_count": null,
   "metadata": {
    "collapsed": true
   },
   "outputs": [],
   "source": [
    "scores = cross_val_score(model, X, y, scoring='roc_auc')\n",
    "print('CV AUC {}, Average AUC {}'.format(scores, scores.mean()))\n",
    "\n",
    "for n_trees in range(1, 100, 10):\n",
    "    model = RandomForestClassifier(n_estimators = n_trees)\n",
    "    scores = cross_val_score(model, X, y, scoring='roc_auc')\n",
    "    print('n trees: {}, CV AUC {}, Average AUC {}'.format(n_trees, scores, scores.mean()))"
   ]
  }
 ],
 "metadata": {
  "anaconda-cloud": {},
  "kernelspec": {
   "display_name": "Python [conda root]",
   "language": "python",
   "name": "conda-root-py"
  },
  "language_info": {
   "codemirror_mode": {
    "name": "ipython",
    "version": 2
   },
   "file_extension": ".py",
   "mimetype": "text/x-python",
   "name": "python",
   "nbconvert_exporter": "python",
   "pygments_lexer": "ipython2",
   "version": "2.7.12"
  }
 },
 "nbformat": 4,
 "nbformat_minor": 1
}
