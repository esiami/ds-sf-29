{
 "cells": [
  {
   "cell_type": "code",
   "execution_count": 149,
   "metadata": {
    "collapsed": false
   },
   "outputs": [],
   "source": [
    "from sklearn.neighbors import KNeighborsClassifier\n",
    "from sklearn.model_selection import train_test_split\n",
    "import numpy as np\n",
    "import pandas as pd\n",
    "from matplotlib import pyplot as plt\n",
    "import seaborn as sns\n",
    "from sklearn.linear_model import LogisticRegressionCV\n",
    "from sklearn.linear_model import LogisticRegression\n",
    "from sklearn.ensemble import RandomForestClassifier\n",
    "from sklearn import metrics\n",
    "import matplotlib.pyplot as plt\n",
    "from sklearn.svm.libsvm import predict_proba\n",
    "from sklearn.ensemble import ExtraTreesClassifier\n",
    "from sklearn.feature_selection import SelectFromModel\n",
    "from sklearn.metrics import accuracy_score\n",
    "from sklearn.model_selection import GridSearchCV\n",
    "from sklearn.metrics import confusion_matrix\n",
    "%matplotlib inline"
   ]
  },
  {
   "cell_type": "code",
   "execution_count": 8,
   "metadata": {
    "collapsed": false
   },
   "outputs": [
    {
     "name": "stdout",
     "output_type": "stream",
     "text": [
      "0.18.1\n"
     ]
    }
   ],
   "source": [
    "import sklearn\n",
    "print sklearn.__version__"
   ]
  },
  {
   "cell_type": "code",
   "execution_count": 9,
   "metadata": {
    "collapsed": false
   },
   "outputs": [
    {
     "data": {
      "text/html": [
       "<div>\n",
       "<table border=\"1\" class=\"dataframe\">\n",
       "  <thead>\n",
       "    <tr style=\"text-align: right;\">\n",
       "      <th></th>\n",
       "      <th>ID</th>\n",
       "      <th>Account_Name</th>\n",
       "      <th>Years_as_Customer</th>\n",
       "      <th>Monthly_FH_Quota</th>\n",
       "      <th>Sales_Order_ACV</th>\n",
       "      <th>Total_Services_Days</th>\n",
       "      <th>Paid_Days</th>\n",
       "      <th>Services_Days_Delivered</th>\n",
       "      <th>Analyst_Users</th>\n",
       "      <th>Business_Users</th>\n",
       "      <th>...</th>\n",
       "      <th>Avg_FH_Usage</th>\n",
       "      <th>Avg_%_FH_Usage</th>\n",
       "      <th>Month_1_PG</th>\n",
       "      <th>Month_2_PG</th>\n",
       "      <th>Month_3_PG</th>\n",
       "      <th>Month_4_PG</th>\n",
       "      <th>Month_5_PG</th>\n",
       "      <th>Month_6_PG</th>\n",
       "      <th>Avg_PG_Month</th>\n",
       "      <th>Output</th>\n",
       "    </tr>\n",
       "  </thead>\n",
       "  <tbody>\n",
       "    <tr>\n",
       "      <th>0</th>\n",
       "      <td>2123</td>\n",
       "      <td>7-Eleven Inc.(USA)</td>\n",
       "      <td>1.64</td>\n",
       "      <td>1000000.0</td>\n",
       "      <td>132500.00</td>\n",
       "      <td>36.0</td>\n",
       "      <td>21.0</td>\n",
       "      <td>16.00000</td>\n",
       "      <td>10.0</td>\n",
       "      <td>6.0</td>\n",
       "      <td>...</td>\n",
       "      <td>447698</td>\n",
       "      <td>0.45</td>\n",
       "      <td>48</td>\n",
       "      <td>243</td>\n",
       "      <td>104</td>\n",
       "      <td>74</td>\n",
       "      <td>82</td>\n",
       "      <td>24</td>\n",
       "      <td>96</td>\n",
       "      <td>3</td>\n",
       "    </tr>\n",
       "    <tr>\n",
       "      <th>1</th>\n",
       "      <td>1041</td>\n",
       "      <td>Purple Strategies, LLC</td>\n",
       "      <td>3.75</td>\n",
       "      <td>5000000.0</td>\n",
       "      <td>0.00</td>\n",
       "      <td>16.0</td>\n",
       "      <td>7.0</td>\n",
       "      <td>11.25000</td>\n",
       "      <td>21.0</td>\n",
       "      <td>27.0</td>\n",
       "      <td>...</td>\n",
       "      <td>658367</td>\n",
       "      <td>0.13</td>\n",
       "      <td>794</td>\n",
       "      <td>2193</td>\n",
       "      <td>4097</td>\n",
       "      <td>779</td>\n",
       "      <td>1464</td>\n",
       "      <td>373</td>\n",
       "      <td>1617</td>\n",
       "      <td>1</td>\n",
       "    </tr>\n",
       "    <tr>\n",
       "      <th>2</th>\n",
       "      <td>1565</td>\n",
       "      <td>AbbVie, Inc.</td>\n",
       "      <td>1.38</td>\n",
       "      <td>1000000.0</td>\n",
       "      <td>115500.00</td>\n",
       "      <td>56.0</td>\n",
       "      <td>46.0</td>\n",
       "      <td>23.96875</td>\n",
       "      <td>19.0</td>\n",
       "      <td>80.0</td>\n",
       "      <td>...</td>\n",
       "      <td>611746</td>\n",
       "      <td>0.61</td>\n",
       "      <td>790</td>\n",
       "      <td>280</td>\n",
       "      <td>700</td>\n",
       "      <td>474</td>\n",
       "      <td>151</td>\n",
       "      <td>54</td>\n",
       "      <td>408</td>\n",
       "      <td>2</td>\n",
       "    </tr>\n",
       "    <tr>\n",
       "      <th>3</th>\n",
       "      <td>2193</td>\n",
       "      <td>Air New Zealand  LLC</td>\n",
       "      <td>2.54</td>\n",
       "      <td>2000000.0</td>\n",
       "      <td>33118.34</td>\n",
       "      <td>78.0</td>\n",
       "      <td>68.0</td>\n",
       "      <td>16.68750</td>\n",
       "      <td>11.0</td>\n",
       "      <td>12.0</td>\n",
       "      <td>...</td>\n",
       "      <td>1053692</td>\n",
       "      <td>0.53</td>\n",
       "      <td>615</td>\n",
       "      <td>696</td>\n",
       "      <td>432</td>\n",
       "      <td>237</td>\n",
       "      <td>265</td>\n",
       "      <td>219</td>\n",
       "      <td>411</td>\n",
       "      <td>2</td>\n",
       "    </tr>\n",
       "    <tr>\n",
       "      <th>4</th>\n",
       "      <td>2401</td>\n",
       "      <td>All Aboard Florida- Operations, LLC</td>\n",
       "      <td>2.06</td>\n",
       "      <td>1000000.0</td>\n",
       "      <td>55000.00</td>\n",
       "      <td>8.0</td>\n",
       "      <td>3.0</td>\n",
       "      <td>4.06250</td>\n",
       "      <td>4.0</td>\n",
       "      <td>10.0</td>\n",
       "      <td>...</td>\n",
       "      <td>0</td>\n",
       "      <td>0</td>\n",
       "      <td>207</td>\n",
       "      <td>84</td>\n",
       "      <td>253</td>\n",
       "      <td>37</td>\n",
       "      <td>117</td>\n",
       "      <td>54</td>\n",
       "      <td>125</td>\n",
       "      <td>2</td>\n",
       "    </tr>\n",
       "  </tbody>\n",
       "</table>\n",
       "<p>5 rows × 33 columns</p>\n",
       "</div>"
      ],
      "text/plain": [
       "     ID                         Account_Name  Years_as_Customer  \\\n",
       "0  2123                   7-Eleven Inc.(USA)               1.64   \n",
       "1  1041               Purple Strategies, LLC               3.75   \n",
       "2  1565                         AbbVie, Inc.               1.38   \n",
       "3  2193                 Air New Zealand  LLC               2.54   \n",
       "4  2401  All Aboard Florida- Operations, LLC               2.06   \n",
       "\n",
       "   Monthly_FH_Quota  Sales_Order_ACV  Total_Services_Days  Paid_Days  \\\n",
       "0         1000000.0        132500.00                 36.0       21.0   \n",
       "1         5000000.0             0.00                 16.0        7.0   \n",
       "2         1000000.0        115500.00                 56.0       46.0   \n",
       "3         2000000.0         33118.34                 78.0       68.0   \n",
       "4         1000000.0         55000.00                  8.0        3.0   \n",
       "\n",
       "   Services_Days_Delivered  Analyst_Users  Business_Users   ...    \\\n",
       "0                 16.00000           10.0             6.0   ...     \n",
       "1                 11.25000           21.0            27.0   ...     \n",
       "2                 23.96875           19.0            80.0   ...     \n",
       "3                 16.68750           11.0            12.0   ...     \n",
       "4                  4.06250            4.0            10.0   ...     \n",
       "\n",
       "   Avg_FH_Usage Avg_%_FH_Usage Month_1_PG  Month_2_PG  Month_3_PG Month_4_PG  \\\n",
       "0        447698           0.45         48         243         104         74   \n",
       "1        658367           0.13        794        2193        4097        779   \n",
       "2        611746           0.61        790         280         700        474   \n",
       "3       1053692           0.53        615         696         432        237   \n",
       "4             0              0        207          84         253         37   \n",
       "\n",
       "  Month_5_PG  Month_6_PG  Avg_PG_Month  Output  \n",
       "0         82          24            96       3  \n",
       "1       1464         373          1617       1  \n",
       "2        151          54           408       2  \n",
       "3        265         219           411       2  \n",
       "4        117          54           125       2  \n",
       "\n",
       "[5 rows x 33 columns]"
      ]
     },
     "execution_count": 9,
     "metadata": {},
     "output_type": "execute_result"
    }
   ],
   "source": [
    "customer_data = pd.read_csv('/Users/Elizabeth.Schwandt/Desktop/customer_classifier.csv')\n",
    "customer_data.head()"
   ]
  },
  {
   "cell_type": "code",
   "execution_count": 10,
   "metadata": {
    "collapsed": false
   },
   "outputs": [
    {
     "data": {
      "text/plain": [
       "ID                         533\n",
       "Account_Name               533\n",
       "Years_as_Customer          533\n",
       "Monthly_FH_Quota           533\n",
       "Sales_Order_ACV            533\n",
       "Total_Services_Days        533\n",
       "Paid_Days                  533\n",
       "Services_Days_Delivered    533\n",
       "Analyst_Users              533\n",
       "Business_Users             533\n",
       "Total_Users                533\n",
       "%_Services_Delivered       533\n",
       "%_Services_Paid            533\n",
       "Total_Logins               533\n",
       "Unique_Users               533\n",
       "Avg_Logins                 533\n",
       "Avg_Unique_Logins          533\n",
       "Month_1_FH                 533\n",
       "Month_2_FH                 533\n",
       "Month_3_FH                 533\n",
       "Month_4_FH                 533\n",
       "Month_5_FH                 533\n",
       "Month_6_FH                 533\n",
       "Avg_FH_Usage               533\n",
       "Avg_%_FH_Usage             533\n",
       "Month_1_PG                 533\n",
       "Month_2_PG                 533\n",
       "Month_3_PG                 533\n",
       "Month_4_PG                 533\n",
       "Month_5_PG                 533\n",
       "Month_6_PG                 533\n",
       "Avg_PG_Month               533\n",
       "Output                     533\n",
       "dtype: int64"
      ]
     },
     "execution_count": 10,
     "metadata": {},
     "output_type": "execute_result"
    }
   ],
   "source": [
    "clean_data = customer_data.dropna()\n",
    "clean_data.count()"
   ]
  },
  {
   "cell_type": "code",
   "execution_count": 11,
   "metadata": {
    "collapsed": false
   },
   "outputs": [
    {
     "name": "stdout",
     "output_type": "stream",
     "text": [
      "(533, 33)\n"
     ]
    }
   ],
   "source": [
    "print (clean_data.shape)"
   ]
  },
  {
   "cell_type": "code",
   "execution_count": 12,
   "metadata": {
    "collapsed": false
   },
   "outputs": [
    {
     "data": {
      "text/html": [
       "<div>\n",
       "<table border=\"1\" class=\"dataframe\">\n",
       "  <thead>\n",
       "    <tr style=\"text-align: right;\">\n",
       "      <th></th>\n",
       "      <th>ID</th>\n",
       "      <th>Years_as_Customer</th>\n",
       "      <th>Monthly_FH_Quota</th>\n",
       "      <th>Sales_Order_ACV</th>\n",
       "      <th>Total_Services_Days</th>\n",
       "      <th>Paid_Days</th>\n",
       "      <th>Services_Days_Delivered</th>\n",
       "      <th>Analyst_Users</th>\n",
       "      <th>Business_Users</th>\n",
       "      <th>Total_Users</th>\n",
       "      <th>...</th>\n",
       "      <th>Month_6_FH</th>\n",
       "      <th>Avg_FH_Usage</th>\n",
       "      <th>Month_1_PG</th>\n",
       "      <th>Month_2_PG</th>\n",
       "      <th>Month_3_PG</th>\n",
       "      <th>Month_4_PG</th>\n",
       "      <th>Month_5_PG</th>\n",
       "      <th>Month_6_PG</th>\n",
       "      <th>Avg_PG_Month</th>\n",
       "      <th>Output</th>\n",
       "    </tr>\n",
       "  </thead>\n",
       "  <tbody>\n",
       "    <tr>\n",
       "      <th>count</th>\n",
       "      <td>533.000000</td>\n",
       "      <td>533.000000</td>\n",
       "      <td>5.330000e+02</td>\n",
       "      <td>5.330000e+02</td>\n",
       "      <td>533.000000</td>\n",
       "      <td>533.000000</td>\n",
       "      <td>533.000000</td>\n",
       "      <td>533.000000</td>\n",
       "      <td>533.000000</td>\n",
       "      <td>533.000000</td>\n",
       "      <td>...</td>\n",
       "      <td>5.330000e+02</td>\n",
       "      <td>5.330000e+02</td>\n",
       "      <td>533.000000</td>\n",
       "      <td>533.000000</td>\n",
       "      <td>533.000000</td>\n",
       "      <td>533.000000</td>\n",
       "      <td>533.000000</td>\n",
       "      <td>533.000000</td>\n",
       "      <td>533.000000</td>\n",
       "      <td>533.000000</td>\n",
       "    </tr>\n",
       "    <tr>\n",
       "      <th>mean</th>\n",
       "      <td>1378.660413</td>\n",
       "      <td>1.891320</td>\n",
       "      <td>1.633878e+06</td>\n",
       "      <td>1.492982e+05</td>\n",
       "      <td>14.435497</td>\n",
       "      <td>7.372195</td>\n",
       "      <td>8.584321</td>\n",
       "      <td>82.547486</td>\n",
       "      <td>76.253283</td>\n",
       "      <td>158.800769</td>\n",
       "      <td>...</td>\n",
       "      <td>2.562057e+05</td>\n",
       "      <td>8.610161e+05</td>\n",
       "      <td>732.424015</td>\n",
       "      <td>776.806754</td>\n",
       "      <td>751.080675</td>\n",
       "      <td>783.574109</td>\n",
       "      <td>733.983114</td>\n",
       "      <td>561.041276</td>\n",
       "      <td>723.225141</td>\n",
       "      <td>2.258912</td>\n",
       "    </tr>\n",
       "    <tr>\n",
       "      <th>std</th>\n",
       "      <td>1035.933667</td>\n",
       "      <td>1.244409</td>\n",
       "      <td>4.448910e+06</td>\n",
       "      <td>4.555963e+05</td>\n",
       "      <td>47.092341</td>\n",
       "      <td>38.559465</td>\n",
       "      <td>58.064910</td>\n",
       "      <td>1373.982888</td>\n",
       "      <td>1028.457045</td>\n",
       "      <td>2394.865811</td>\n",
       "      <td>...</td>\n",
       "      <td>1.536496e+06</td>\n",
       "      <td>5.049082e+06</td>\n",
       "      <td>2199.122809</td>\n",
       "      <td>2468.517135</td>\n",
       "      <td>2087.752708</td>\n",
       "      <td>2152.106564</td>\n",
       "      <td>1963.003203</td>\n",
       "      <td>1564.400149</td>\n",
       "      <td>2007.077762</td>\n",
       "      <td>0.712760</td>\n",
       "    </tr>\n",
       "    <tr>\n",
       "      <th>min</th>\n",
       "      <td>0.000000</td>\n",
       "      <td>0.020000</td>\n",
       "      <td>0.000000e+00</td>\n",
       "      <td>0.000000e+00</td>\n",
       "      <td>0.000000</td>\n",
       "      <td>0.000000</td>\n",
       "      <td>0.000000</td>\n",
       "      <td>0.000000</td>\n",
       "      <td>0.000000</td>\n",
       "      <td>0.000000</td>\n",
       "      <td>...</td>\n",
       "      <td>0.000000e+00</td>\n",
       "      <td>0.000000e+00</td>\n",
       "      <td>0.000000</td>\n",
       "      <td>0.000000</td>\n",
       "      <td>0.000000</td>\n",
       "      <td>0.000000</td>\n",
       "      <td>0.000000</td>\n",
       "      <td>0.000000</td>\n",
       "      <td>0.000000</td>\n",
       "      <td>1.000000</td>\n",
       "    </tr>\n",
       "    <tr>\n",
       "      <th>25%</th>\n",
       "      <td>0.000000</td>\n",
       "      <td>1.000000</td>\n",
       "      <td>1.000000e+06</td>\n",
       "      <td>0.000000e+00</td>\n",
       "      <td>0.000000</td>\n",
       "      <td>0.000000</td>\n",
       "      <td>0.000000</td>\n",
       "      <td>1.000000</td>\n",
       "      <td>0.000000</td>\n",
       "      <td>3.000000</td>\n",
       "      <td>...</td>\n",
       "      <td>0.000000e+00</td>\n",
       "      <td>0.000000e+00</td>\n",
       "      <td>0.000000</td>\n",
       "      <td>0.000000</td>\n",
       "      <td>0.000000</td>\n",
       "      <td>0.000000</td>\n",
       "      <td>0.000000</td>\n",
       "      <td>0.000000</td>\n",
       "      <td>0.000000</td>\n",
       "      <td>2.000000</td>\n",
       "    </tr>\n",
       "    <tr>\n",
       "      <th>50%</th>\n",
       "      <td>1613.000000</td>\n",
       "      <td>1.770000</td>\n",
       "      <td>1.000000e+06</td>\n",
       "      <td>3.500000e+04</td>\n",
       "      <td>6.000000</td>\n",
       "      <td>0.000000</td>\n",
       "      <td>1.500000</td>\n",
       "      <td>3.000000</td>\n",
       "      <td>2.000000</td>\n",
       "      <td>6.000000</td>\n",
       "      <td>...</td>\n",
       "      <td>1.880000e+02</td>\n",
       "      <td>4.536000e+03</td>\n",
       "      <td>69.000000</td>\n",
       "      <td>74.000000</td>\n",
       "      <td>119.000000</td>\n",
       "      <td>137.000000</td>\n",
       "      <td>112.000000</td>\n",
       "      <td>69.000000</td>\n",
       "      <td>189.000000</td>\n",
       "      <td>2.000000</td>\n",
       "    </tr>\n",
       "    <tr>\n",
       "      <th>75%</th>\n",
       "      <td>2305.000000</td>\n",
       "      <td>2.840000</td>\n",
       "      <td>1.000000e+06</td>\n",
       "      <td>1.193500e+05</td>\n",
       "      <td>12.000000</td>\n",
       "      <td>1.000000</td>\n",
       "      <td>5.000000</td>\n",
       "      <td>6.000000</td>\n",
       "      <td>10.000000</td>\n",
       "      <td>16.000000</td>\n",
       "      <td>...</td>\n",
       "      <td>2.186200e+04</td>\n",
       "      <td>1.352360e+05</td>\n",
       "      <td>708.000000</td>\n",
       "      <td>653.000000</td>\n",
       "      <td>737.000000</td>\n",
       "      <td>741.000000</td>\n",
       "      <td>691.000000</td>\n",
       "      <td>524.000000</td>\n",
       "      <td>745.000000</td>\n",
       "      <td>3.000000</td>\n",
       "    </tr>\n",
       "    <tr>\n",
       "      <th>max</th>\n",
       "      <td>2891.000000</td>\n",
       "      <td>7.580000</td>\n",
       "      <td>8.433333e+07</td>\n",
       "      <td>5.642494e+06</td>\n",
       "      <td>832.500000</td>\n",
       "      <td>723.500000</td>\n",
       "      <td>1282.937500</td>\n",
       "      <td>30127.000000</td>\n",
       "      <td>21403.000000</td>\n",
       "      <td>51530.000000</td>\n",
       "      <td>...</td>\n",
       "      <td>1.883500e+07</td>\n",
       "      <td>7.131415e+07</td>\n",
       "      <td>39903.000000</td>\n",
       "      <td>45853.000000</td>\n",
       "      <td>37043.000000</td>\n",
       "      <td>34215.000000</td>\n",
       "      <td>30705.000000</td>\n",
       "      <td>27322.000000</td>\n",
       "      <td>35840.000000</td>\n",
       "      <td>3.000000</td>\n",
       "    </tr>\n",
       "  </tbody>\n",
       "</table>\n",
       "<p>8 rows × 27 columns</p>\n",
       "</div>"
      ],
      "text/plain": [
       "                ID  Years_as_Customer  Monthly_FH_Quota  Sales_Order_ACV  \\\n",
       "count   533.000000         533.000000      5.330000e+02     5.330000e+02   \n",
       "mean   1378.660413           1.891320      1.633878e+06     1.492982e+05   \n",
       "std    1035.933667           1.244409      4.448910e+06     4.555963e+05   \n",
       "min       0.000000           0.020000      0.000000e+00     0.000000e+00   \n",
       "25%       0.000000           1.000000      1.000000e+06     0.000000e+00   \n",
       "50%    1613.000000           1.770000      1.000000e+06     3.500000e+04   \n",
       "75%    2305.000000           2.840000      1.000000e+06     1.193500e+05   \n",
       "max    2891.000000           7.580000      8.433333e+07     5.642494e+06   \n",
       "\n",
       "       Total_Services_Days   Paid_Days  Services_Days_Delivered  \\\n",
       "count           533.000000  533.000000               533.000000   \n",
       "mean             14.435497    7.372195                 8.584321   \n",
       "std              47.092341   38.559465                58.064910   \n",
       "min               0.000000    0.000000                 0.000000   \n",
       "25%               0.000000    0.000000                 0.000000   \n",
       "50%               6.000000    0.000000                 1.500000   \n",
       "75%              12.000000    1.000000                 5.000000   \n",
       "max             832.500000  723.500000              1282.937500   \n",
       "\n",
       "       Analyst_Users  Business_Users   Total_Users     ...        Month_6_FH  \\\n",
       "count     533.000000      533.000000    533.000000     ...      5.330000e+02   \n",
       "mean       82.547486       76.253283    158.800769     ...      2.562057e+05   \n",
       "std      1373.982888     1028.457045   2394.865811     ...      1.536496e+06   \n",
       "min         0.000000        0.000000      0.000000     ...      0.000000e+00   \n",
       "25%         1.000000        0.000000      3.000000     ...      0.000000e+00   \n",
       "50%         3.000000        2.000000      6.000000     ...      1.880000e+02   \n",
       "75%         6.000000       10.000000     16.000000     ...      2.186200e+04   \n",
       "max     30127.000000    21403.000000  51530.000000     ...      1.883500e+07   \n",
       "\n",
       "       Avg_FH_Usage    Month_1_PG    Month_2_PG    Month_3_PG    Month_4_PG  \\\n",
       "count  5.330000e+02    533.000000    533.000000    533.000000    533.000000   \n",
       "mean   8.610161e+05    732.424015    776.806754    751.080675    783.574109   \n",
       "std    5.049082e+06   2199.122809   2468.517135   2087.752708   2152.106564   \n",
       "min    0.000000e+00      0.000000      0.000000      0.000000      0.000000   \n",
       "25%    0.000000e+00      0.000000      0.000000      0.000000      0.000000   \n",
       "50%    4.536000e+03     69.000000     74.000000    119.000000    137.000000   \n",
       "75%    1.352360e+05    708.000000    653.000000    737.000000    741.000000   \n",
       "max    7.131415e+07  39903.000000  45853.000000  37043.000000  34215.000000   \n",
       "\n",
       "         Month_5_PG    Month_6_PG  Avg_PG_Month      Output  \n",
       "count    533.000000    533.000000    533.000000  533.000000  \n",
       "mean     733.983114    561.041276    723.225141    2.258912  \n",
       "std     1963.003203   1564.400149   2007.077762    0.712760  \n",
       "min        0.000000      0.000000      0.000000    1.000000  \n",
       "25%        0.000000      0.000000      0.000000    2.000000  \n",
       "50%      112.000000     69.000000    189.000000    2.000000  \n",
       "75%      691.000000    524.000000    745.000000    3.000000  \n",
       "max    30705.000000  27322.000000  35840.000000    3.000000  \n",
       "\n",
       "[8 rows x 27 columns]"
      ]
     },
     "execution_count": 12,
     "metadata": {},
     "output_type": "execute_result"
    }
   ],
   "source": [
    "clean_data.describe()"
   ]
  },
  {
   "cell_type": "code",
   "execution_count": 13,
   "metadata": {
    "collapsed": false
   },
   "outputs": [
    {
     "data": {
      "text/html": [
       "<div>\n",
       "<table border=\"1\" class=\"dataframe\">\n",
       "  <thead>\n",
       "    <tr style=\"text-align: right;\">\n",
       "      <th></th>\n",
       "      <th>Account_Name</th>\n",
       "      <th>Years_as_Customer</th>\n",
       "      <th>Monthly_FH_Quota</th>\n",
       "      <th>Sales_Order_ACV</th>\n",
       "      <th>Total_Services_Days</th>\n",
       "      <th>Paid_Days</th>\n",
       "      <th>Services_Days_Delivered</th>\n",
       "      <th>Analyst_Users</th>\n",
       "      <th>Business_Users</th>\n",
       "      <th>Total_Users</th>\n",
       "      <th>...</th>\n",
       "      <th>Avg_FH_Usage</th>\n",
       "      <th>Avg_%_FH_Usage</th>\n",
       "      <th>Month_1_PG</th>\n",
       "      <th>Month_2_PG</th>\n",
       "      <th>Month_3_PG</th>\n",
       "      <th>Month_4_PG</th>\n",
       "      <th>Month_5_PG</th>\n",
       "      <th>Month_6_PG</th>\n",
       "      <th>Avg_PG_Month</th>\n",
       "      <th>Output</th>\n",
       "    </tr>\n",
       "  </thead>\n",
       "  <tbody>\n",
       "    <tr>\n",
       "      <th>0</th>\n",
       "      <td>7-Eleven Inc.(USA)</td>\n",
       "      <td>1.64</td>\n",
       "      <td>1000000.0</td>\n",
       "      <td>132500.00</td>\n",
       "      <td>36.0</td>\n",
       "      <td>21.0</td>\n",
       "      <td>16.00000</td>\n",
       "      <td>10.0</td>\n",
       "      <td>6.0</td>\n",
       "      <td>16.0</td>\n",
       "      <td>...</td>\n",
       "      <td>447698</td>\n",
       "      <td>0.45</td>\n",
       "      <td>48</td>\n",
       "      <td>243</td>\n",
       "      <td>104</td>\n",
       "      <td>74</td>\n",
       "      <td>82</td>\n",
       "      <td>24</td>\n",
       "      <td>96</td>\n",
       "      <td>3</td>\n",
       "    </tr>\n",
       "    <tr>\n",
       "      <th>1</th>\n",
       "      <td>Purple Strategies, LLC</td>\n",
       "      <td>3.75</td>\n",
       "      <td>5000000.0</td>\n",
       "      <td>0.00</td>\n",
       "      <td>16.0</td>\n",
       "      <td>7.0</td>\n",
       "      <td>11.25000</td>\n",
       "      <td>21.0</td>\n",
       "      <td>27.0</td>\n",
       "      <td>48.0</td>\n",
       "      <td>...</td>\n",
       "      <td>658367</td>\n",
       "      <td>0.13</td>\n",
       "      <td>794</td>\n",
       "      <td>2193</td>\n",
       "      <td>4097</td>\n",
       "      <td>779</td>\n",
       "      <td>1464</td>\n",
       "      <td>373</td>\n",
       "      <td>1617</td>\n",
       "      <td>1</td>\n",
       "    </tr>\n",
       "    <tr>\n",
       "      <th>2</th>\n",
       "      <td>AbbVie, Inc.</td>\n",
       "      <td>1.38</td>\n",
       "      <td>1000000.0</td>\n",
       "      <td>115500.00</td>\n",
       "      <td>56.0</td>\n",
       "      <td>46.0</td>\n",
       "      <td>23.96875</td>\n",
       "      <td>19.0</td>\n",
       "      <td>80.0</td>\n",
       "      <td>99.0</td>\n",
       "      <td>...</td>\n",
       "      <td>611746</td>\n",
       "      <td>0.61</td>\n",
       "      <td>790</td>\n",
       "      <td>280</td>\n",
       "      <td>700</td>\n",
       "      <td>474</td>\n",
       "      <td>151</td>\n",
       "      <td>54</td>\n",
       "      <td>408</td>\n",
       "      <td>2</td>\n",
       "    </tr>\n",
       "    <tr>\n",
       "      <th>3</th>\n",
       "      <td>Air New Zealand  LLC</td>\n",
       "      <td>2.54</td>\n",
       "      <td>2000000.0</td>\n",
       "      <td>33118.34</td>\n",
       "      <td>78.0</td>\n",
       "      <td>68.0</td>\n",
       "      <td>16.68750</td>\n",
       "      <td>11.0</td>\n",
       "      <td>12.0</td>\n",
       "      <td>23.0</td>\n",
       "      <td>...</td>\n",
       "      <td>1053692</td>\n",
       "      <td>0.53</td>\n",
       "      <td>615</td>\n",
       "      <td>696</td>\n",
       "      <td>432</td>\n",
       "      <td>237</td>\n",
       "      <td>265</td>\n",
       "      <td>219</td>\n",
       "      <td>411</td>\n",
       "      <td>2</td>\n",
       "    </tr>\n",
       "    <tr>\n",
       "      <th>4</th>\n",
       "      <td>All Aboard Florida- Operations, LLC</td>\n",
       "      <td>2.06</td>\n",
       "      <td>1000000.0</td>\n",
       "      <td>55000.00</td>\n",
       "      <td>8.0</td>\n",
       "      <td>3.0</td>\n",
       "      <td>4.06250</td>\n",
       "      <td>4.0</td>\n",
       "      <td>10.0</td>\n",
       "      <td>14.0</td>\n",
       "      <td>...</td>\n",
       "      <td>0</td>\n",
       "      <td>0</td>\n",
       "      <td>207</td>\n",
       "      <td>84</td>\n",
       "      <td>253</td>\n",
       "      <td>37</td>\n",
       "      <td>117</td>\n",
       "      <td>54</td>\n",
       "      <td>125</td>\n",
       "      <td>2</td>\n",
       "    </tr>\n",
       "  </tbody>\n",
       "</table>\n",
       "<p>5 rows × 32 columns</p>\n",
       "</div>"
      ],
      "text/plain": [
       "                          Account_Name  Years_as_Customer  Monthly_FH_Quota  \\\n",
       "0                   7-Eleven Inc.(USA)               1.64         1000000.0   \n",
       "1               Purple Strategies, LLC               3.75         5000000.0   \n",
       "2                         AbbVie, Inc.               1.38         1000000.0   \n",
       "3                 Air New Zealand  LLC               2.54         2000000.0   \n",
       "4  All Aboard Florida- Operations, LLC               2.06         1000000.0   \n",
       "\n",
       "   Sales_Order_ACV  Total_Services_Days  Paid_Days  Services_Days_Delivered  \\\n",
       "0        132500.00                 36.0       21.0                 16.00000   \n",
       "1             0.00                 16.0        7.0                 11.25000   \n",
       "2        115500.00                 56.0       46.0                 23.96875   \n",
       "3         33118.34                 78.0       68.0                 16.68750   \n",
       "4         55000.00                  8.0        3.0                  4.06250   \n",
       "\n",
       "   Analyst_Users  Business_Users  Total_Users   ...   Avg_FH_Usage  \\\n",
       "0           10.0             6.0         16.0   ...         447698   \n",
       "1           21.0            27.0         48.0   ...         658367   \n",
       "2           19.0            80.0         99.0   ...         611746   \n",
       "3           11.0            12.0         23.0   ...        1053692   \n",
       "4            4.0            10.0         14.0   ...              0   \n",
       "\n",
       "  Avg_%_FH_Usage  Month_1_PG  Month_2_PG Month_3_PG Month_4_PG  Month_5_PG  \\\n",
       "0           0.45          48         243        104         74          82   \n",
       "1           0.13         794        2193       4097        779        1464   \n",
       "2           0.61         790         280        700        474         151   \n",
       "3           0.53         615         696        432        237         265   \n",
       "4              0         207          84        253         37         117   \n",
       "\n",
       "   Month_6_PG  Avg_PG_Month  Output  \n",
       "0          24            96       3  \n",
       "1         373          1617       1  \n",
       "2          54           408       2  \n",
       "3         219           411       2  \n",
       "4          54           125       2  \n",
       "\n",
       "[5 rows x 32 columns]"
      ]
     },
     "execution_count": 13,
     "metadata": {},
     "output_type": "execute_result"
    }
   ],
   "source": [
    "clean_data2 = clean_data.drop('ID', 1)\n",
    "\n",
    "clean_data2.head()"
   ]
  },
  {
   "cell_type": "code",
   "execution_count": 14,
   "metadata": {
    "collapsed": false
   },
   "outputs": [
    {
     "data": {
      "text/plain": [
       "Account_Name                object\n",
       "Years_as_Customer          float64\n",
       "Monthly_FH_Quota           float64\n",
       "Sales_Order_ACV            float64\n",
       "Total_Services_Days        float64\n",
       "Paid_Days                  float64\n",
       "Services_Days_Delivered    float64\n",
       "Analyst_Users              float64\n",
       "Business_Users             float64\n",
       "Total_Users                float64\n",
       "%_Services_Delivered        object\n",
       "%_Services_Paid             object\n",
       "Total_Logins                 int64\n",
       "Unique_Users                 int64\n",
       "Avg_Logins                  object\n",
       "Avg_Unique_Logins           object\n",
       "Month_1_FH                 float64\n",
       "Month_2_FH                   int64\n",
       "Month_3_FH                   int64\n",
       "Month_4_FH                   int64\n",
       "Month_5_FH                 float64\n",
       "Month_6_FH                   int64\n",
       "Avg_FH_Usage                 int64\n",
       "Avg_%_FH_Usage              object\n",
       "Month_1_PG                   int64\n",
       "Month_2_PG                   int64\n",
       "Month_3_PG                   int64\n",
       "Month_4_PG                   int64\n",
       "Month_5_PG                   int64\n",
       "Month_6_PG                   int64\n",
       "Avg_PG_Month                 int64\n",
       "Output                       int64\n",
       "dtype: object"
      ]
     },
     "execution_count": 14,
     "metadata": {},
     "output_type": "execute_result"
    }
   ],
   "source": [
    "clean_data2.dtypes"
   ]
  },
  {
   "cell_type": "code",
   "execution_count": 15,
   "metadata": {
    "collapsed": false,
    "scrolled": true
   },
   "outputs": [
    {
     "data": {
      "image/png": "[encoded data removed]",
      "text/plain": [
       "<matplotlib.figure.Figure at 0x114a14650>"
      ]
     },
     "metadata": {},
     "output_type": "display_data"
    }
   ],
   "source": [
    "#Distribution of Years as a customer\n",
    "\n",
    "clean_data['Years_as_Customer'].hist(bins=20)\n",
    "plt.show()"
   ]
  },
  {
   "cell_type": "code",
   "execution_count": 77,
   "metadata": {
    "collapsed": false,
    "scrolled": true
   },
   "outputs": [
    {
     "data": {
      "image/png": "[encoded data removed]",
      "text/plain": [
       "<matplotlib.figure.Figure at 0x1166f06d0>"
      ]
     },
     "metadata": {},
     "output_type": "display_data"
    }
   ],
   "source": [
    "#Plot to show correlation between Firehose Usage and Page Views each month. I would expect there to be a positive correlation.\n",
    "\n",
    "plt.figure()\n",
    "plt.plot(clean_data.Avg_FH_Usage, clean_data.Avg_PG_Month)\n",
    "plt.show()"
   ]
  },
  {
   "cell_type": "code",
   "execution_count": 78,
   "metadata": {
    "collapsed": true
   },
   "outputs": [],
   "source": [
    "log_columns = ['Avg_FH_Usage', 'Avg_PG_Month',]\n",
    "log_clean_data = clean_data.copy()\n",
    "log_clean_data[log_columns] = log_clean_data[log_columns].apply(np.log10)"
   ]
  },
  {
   "cell_type": "code",
   "execution_count": 13,
   "metadata": {
    "collapsed": false
   },
   "outputs": [
    {
     "data": {
      "image/png": "[encoded data removed]",
      "text/plain": [
       "<matplotlib.figure.Figure at 0x116128490>"
      ]
     },
     "metadata": {},
     "output_type": "display_data"
    }
   ],
   "source": [
    "#Log plot between Firehose Usage and Page Views\n",
    "\n",
    "sns.lmplot('Avg_FH_Usage', 'Avg_PG_Month', log_clean_data)\n",
    "sns.plt.show()"
   ]
  },
  {
   "cell_type": "code",
   "execution_count": 79,
   "metadata": {
    "collapsed": false
   },
   "outputs": [
    {
     "data": {
      "image/png": "[encoded data removed]",
      "text/plain": [
       "<matplotlib.figure.Figure at 0x11689df90>"
      ]
     },
     "metadata": {},
     "output_type": "display_data"
    }
   ],
   "source": [
    "clean_data.boxplot(column='Avg_FH_Usage', by = 'Output')\n",
    "plt.show()"
   ]
  },
  {
   "cell_type": "code",
   "execution_count": 91,
   "metadata": {
    "collapsed": false
   },
   "outputs": [],
   "source": [
    "X = clean_data[[\"Month_6_PG\", \"Month_5_PG\", \"Month_4_PG\", \"Avg_PG_Month\", \"Month_2_PG\", \"Month_3_PG\", \"Month_1_PG\", \"Total_Services_Days\", \"Paid_Days\", \"Monthly_FH_Quota\", \"Month_5_FH\", \"Services_Days_Delivered\", \"Month_6_FH\", \"Month_3_FH\", \"Avg_FH_Usage\"]]"
   ]
  },
  {
   "cell_type": "code",
   "execution_count": 92,
   "metadata": {
    "collapsed": true
   },
   "outputs": [],
   "source": [
    "y = clean_data[[\"Output\"]]"
   ]
  },
  {
   "cell_type": "code",
   "execution_count": 98,
   "metadata": {
    "collapsed": false
   },
   "outputs": [],
   "source": [
    "X_train, X_test, y_train, y_test = train_test_split(X, y, test_size=0.25, random_state=0)"
   ]
  },
  {
   "cell_type": "code",
   "execution_count": 94,
   "metadata": {
    "collapsed": false
   },
   "outputs": [
    {
     "data": {
      "text/plain": [
       "399"
      ]
     },
     "execution_count": 94,
     "metadata": {},
     "output_type": "execute_result"
    }
   ],
   "source": [
    "len(X_train)"
   ]
  },
  {
   "cell_type": "code",
   "execution_count": 95,
   "metadata": {
    "collapsed": false
   },
   "outputs": [
    {
     "data": {
      "text/plain": [
       "134"
      ]
     },
     "execution_count": 95,
     "metadata": {},
     "output_type": "execute_result"
    }
   ],
   "source": [
    "len(X_test)"
   ]
  },
  {
   "cell_type": "code",
   "execution_count": 96,
   "metadata": {
    "collapsed": false
   },
   "outputs": [
    {
     "data": {
      "text/plain": [
       "399"
      ]
     },
     "execution_count": 96,
     "metadata": {},
     "output_type": "execute_result"
    }
   ],
   "source": [
    "len(y_train)"
   ]
  },
  {
   "cell_type": "code",
   "execution_count": 97,
   "metadata": {
    "collapsed": false
   },
   "outputs": [
    {
     "data": {
      "text/plain": [
       "134"
      ]
     },
     "execution_count": 97,
     "metadata": {},
     "output_type": "execute_result"
    }
   ],
   "source": [
    "len(y_test)"
   ]
  },
  {
   "cell_type": "code",
   "execution_count": 99,
   "metadata": {
    "collapsed": false
   },
   "outputs": [
    {
     "data": {
      "text/html": [
       "<div>\n",
       "<table border=\"1\" class=\"dataframe\">\n",
       "  <thead>\n",
       "    <tr style=\"text-align: right;\">\n",
       "      <th>col_0</th>\n",
       "      <th>count</th>\n",
       "    </tr>\n",
       "    <tr>\n",
       "      <th>Output</th>\n",
       "      <th></th>\n",
       "    </tr>\n",
       "  </thead>\n",
       "  <tbody>\n",
       "    <tr>\n",
       "      <th>1</th>\n",
       "      <td>61</td>\n",
       "    </tr>\n",
       "    <tr>\n",
       "      <th>2</th>\n",
       "      <td>168</td>\n",
       "    </tr>\n",
       "    <tr>\n",
       "      <th>3</th>\n",
       "      <td>170</td>\n",
       "    </tr>\n",
       "  </tbody>\n",
       "</table>\n",
       "</div>"
      ],
      "text/plain": [
       "col_0   count\n",
       "Output       \n",
       "1          61\n",
       "2         168\n",
       "3         170"
      ]
     },
     "execution_count": 99,
     "metadata": {},
     "output_type": "execute_result"
    }
   ],
   "source": [
    "train_output = pd.crosstab(index=y_train[\"Output\"],  \n",
    "                              columns=\"count\")      \n",
    "\n",
    "train_output"
   ]
  },
  {
   "cell_type": "code",
   "execution_count": 100,
   "metadata": {
    "collapsed": false
   },
   "outputs": [
    {
     "data": {
      "text/html": [
       "<div>\n",
       "<table border=\"1\" class=\"dataframe\">\n",
       "  <thead>\n",
       "    <tr style=\"text-align: right;\">\n",
       "      <th>col_0</th>\n",
       "      <th>count</th>\n",
       "    </tr>\n",
       "    <tr>\n",
       "      <th>Output</th>\n",
       "      <th></th>\n",
       "    </tr>\n",
       "  </thead>\n",
       "  <tbody>\n",
       "    <tr>\n",
       "      <th>1</th>\n",
       "      <td>23</td>\n",
       "    </tr>\n",
       "    <tr>\n",
       "      <th>2</th>\n",
       "      <td>59</td>\n",
       "    </tr>\n",
       "    <tr>\n",
       "      <th>3</th>\n",
       "      <td>52</td>\n",
       "    </tr>\n",
       "  </tbody>\n",
       "</table>\n",
       "</div>"
      ],
      "text/plain": [
       "col_0   count\n",
       "Output       \n",
       "1          23\n",
       "2          59\n",
       "3          52"
      ]
     },
     "execution_count": 100,
     "metadata": {},
     "output_type": "execute_result"
    }
   ],
   "source": [
    "test_output = pd.crosstab(index=y_test[\"Output\"],  \n",
    "                              columns=\"count\")      \n",
    "\n",
    "test_output"
   ]
  },
  {
   "cell_type": "code",
   "execution_count": 101,
   "metadata": {
    "collapsed": false
   },
   "outputs": [],
   "source": [
    "data_dummies = pd.get_dummies(data=clean_data2, columns=['Output'])"
   ]
  },
  {
   "cell_type": "code",
   "execution_count": 55,
   "metadata": {
    "collapsed": false
   },
   "outputs": [
    {
     "data": {
      "text/plain": [
       "Output_2                   0.700077\n",
       "Output_3                   0.697710\n",
       "Output_1                   0.579325\n",
       "Month_6_PG                 0.222933\n",
       "Month_5_PG                 0.220306\n",
       "Month_4_PG                 0.212426\n",
       "Avg_PG_Month               0.210628\n",
       "Month_2_PG                 0.194712\n",
       "Month_3_PG                 0.193007\n",
       "Month_1_PG                 0.188473\n",
       "Total_Services_Days        0.185946\n",
       "Paid_Days                  0.158027\n",
       "Monthly_FH_Quota           0.134751\n",
       "Month_5_FH                 0.111768\n",
       "Services_Days_Delivered    0.110152\n",
       "Month_6_FH                 0.109077\n",
       "Month_3_FH                 0.106304\n",
       "Avg_FH_Usage               0.104770\n",
       "Month_1_FH                 0.092856\n",
       "Month_4_FH                 0.085743\n",
       "Business_Users             0.083679\n",
       "Month_2_FH                 0.080135\n",
       "Total_Users                0.079161\n",
       "Analyst_Users              0.075342\n",
       "Years_as_Customer          0.047198\n",
       "Sales_Order_ACV            0.033672\n",
       "Unique_Users               0.033597\n",
       "Total_Logins               0.018935\n",
       "dtype: float64"
      ]
     },
     "execution_count": 55,
     "metadata": {},
     "output_type": "execute_result"
    }
   ],
   "source": [
    "data_dummies.corr()[['Output_1', 'Output_2', 'Output_3']].abs().apply(func=np.mean, axis=1).sort_values(ascending=False)"
   ]
  },
  {
   "cell_type": "code",
   "execution_count": 151,
   "metadata": {
    "collapsed": false
   },
   "outputs": [
    {
     "name": "stderr",
     "output_type": "stream",
     "text": [
      "/anaconda/lib/python2.7/site-packages/ipykernel/__main__.py:4: DataConversionWarning: A column-vector y was passed when a 1d array was expected. Please change the shape of y to (n_samples, ), for example using ravel().\n"
     ]
    },
    {
     "data": {
      "text/plain": [
       "KNeighborsClassifier(algorithm='auto', leaf_size=30, metric='minkowski',\n",
       "           metric_params=None, n_jobs=1, n_neighbors=5, p=2,\n",
       "           weights='uniform')"
      ]
     },
     "execution_count": 151,
     "metadata": {},
     "output_type": "execute_result"
    }
   ],
   "source": [
    "#KNN Test\n",
    "\n",
    "knn = neighbors.KNeighborsClassifier(n_neighbors=5, weights='uniform')\n",
    "knn.fit(X_train, y_train)"
   ]
  },
  {
   "cell_type": "code",
   "execution_count": 153,
   "metadata": {
    "collapsed": false
   },
   "outputs": [
    {
     "name": "stdout",
     "output_type": "stream",
     "text": [
      "0.71679197995\n"
     ]
    }
   ],
   "source": [
    "print knn.score(X_train, y_train)"
   ]
  },
  {
   "cell_type": "code",
   "execution_count": 102,
   "metadata": {
    "collapsed": false
   },
   "outputs": [],
   "source": [
    "# Initialize logistic regression model\n",
    "log_model = LogisticRegressionCV()"
   ]
  },
  {
   "cell_type": "code",
   "execution_count": 157,
   "metadata": {
    "collapsed": false
   },
   "outputs": [
    {
     "data": {
      "text/plain": [
       "LogisticRegressionCV(Cs=10, class_weight=None, cv=None, dual=False,\n",
       "           fit_intercept=True, intercept_scaling=1.0, max_iter=100,\n",
       "           multi_class='ovr', n_jobs=1, penalty='l2', random_state=None,\n",
       "           refit=True, scoring=None, solver='lbfgs', tol=0.0001, verbose=0)"
      ]
     },
     "execution_count": 157,
     "metadata": {},
     "output_type": "execute_result"
    }
   ],
   "source": [
    "# Train the model\n",
    "log_model.fit(X_train, y_train)"
   ]
  },
  {
   "cell_type": "code",
   "execution_count": 158,
   "metadata": {
    "collapsed": false
   },
   "outputs": [
    {
     "data": {
      "text/plain": [
       "0.64661654135338342"
      ]
     },
     "execution_count": 158,
     "metadata": {},
     "output_type": "execute_result"
    }
   ],
   "source": [
    "log_model.score(X_train, y_train)"
   ]
  },
  {
   "cell_type": "code",
   "execution_count": 101,
   "metadata": {
    "collapsed": true
   },
   "outputs": [],
   "source": [
    "#This means 65% Accuracy"
   ]
  },
  {
   "cell_type": "code",
   "execution_count": 107,
   "metadata": {
    "collapsed": false
   },
   "outputs": [
    {
     "name": "stdout",
     "output_type": "stream",
     "text": [
      "[ -5.48526885e-06  -1.65835268e-06   6.36259829e-06]\n"
     ]
    }
   ],
   "source": [
    "# Check trained model intercept\n",
    "print(log_model.intercept_)"
   ]
  },
  {
   "cell_type": "code",
   "execution_count": 108,
   "metadata": {
    "collapsed": false
   },
   "outputs": [
    {
     "data": {
      "text/html": [
       "<div>\n",
       "<table border=\"1\" class=\"dataframe\">\n",
       "  <thead>\n",
       "    <tr style=\"text-align: right;\">\n",
       "      <th></th>\n",
       "      <th>0</th>\n",
       "      <th>1</th>\n",
       "    </tr>\n",
       "  </thead>\n",
       "  <tbody>\n",
       "    <tr>\n",
       "      <th>0</th>\n",
       "      <td>O</td>\n",
       "      <td>-0.000005</td>\n",
       "    </tr>\n",
       "    <tr>\n",
       "      <th>1</th>\n",
       "      <td>u</td>\n",
       "      <td>-0.000002</td>\n",
       "    </tr>\n",
       "    <tr>\n",
       "      <th>2</th>\n",
       "      <td>t</td>\n",
       "      <td>0.000006</td>\n",
       "    </tr>\n",
       "  </tbody>\n",
       "</table>\n",
       "</div>"
      ],
      "text/plain": [
       "   0         1\n",
       "0  O -0.000005\n",
       "1  u -0.000002\n",
       "2  t  0.000006"
      ]
     },
     "execution_count": 108,
     "metadata": {},
     "output_type": "execute_result"
    }
   ],
   "source": [
    "pd.DataFrame(zip('Output', np.transpose(log_model.intercept_)))"
   ]
  },
  {
   "cell_type": "code",
   "execution_count": 85,
   "metadata": {
    "collapsed": false,
    "scrolled": true
   },
   "outputs": [
    {
     "name": "stdout",
     "output_type": "stream",
     "text": [
      "[[  2.06930006e-04   3.89171977e-05  -2.00005753e-04   1.75756021e-05\n",
      "    4.42771330e-04  -2.45982319e-04  -1.34129968e-04   3.26987817e-05\n",
      "    4.52680531e-05  -1.38136311e-07   6.14174050e-08   3.19750337e-05\n",
      "    5.91454460e-08  -7.78904021e-08   1.94879759e-08]\n",
      " [  1.49312986e-04   2.59546286e-04   5.71601561e-05   3.19659796e-05\n",
      "   -2.88669967e-04  -1.85995593e-04   1.98267002e-04  -1.65959360e-05\n",
      "   -2.51079714e-05  -1.14345251e-07  -1.11087272e-07  -2.17490527e-05\n",
      "   -4.81180472e-08  -2.66493774e-08   7.83400307e-08]\n",
      " [ -2.68760002e-03  -1.21592009e-03   2.39529992e-04  -5.84238829e-04\n",
      "    3.17012693e-04   4.54842162e-04  -6.05216501e-04  -4.26474428e-05\n",
      "   -4.20438043e-06   1.79983728e-07   9.24245032e-08   6.50690619e-05\n",
      "    8.69281520e-08   2.40510714e-07  -2.68723510e-07]]\n"
     ]
    }
   ],
   "source": [
    "# Check trained model coefficients\n",
    "print(log_model.coef_)"
   ]
  },
  {
   "cell_type": "code",
   "execution_count": 117,
   "metadata": {
    "collapsed": false
   },
   "outputs": [
    {
     "data": {
      "text/plain": [
       "array([[ 0.36366194,  0.44406081,  0.19227725],\n",
       "       [ 0.30373242,  0.4179563 ,  0.27831127],\n",
       "       [ 0.30961117,  0.33424078,  0.35614805],\n",
       "       ..., \n",
       "       [ 0.34087868,  0.40966943,  0.24945189],\n",
       "       [ 0.32162973,  0.33379272,  0.34457755],\n",
       "       [ 0.85144919,  0.02599329,  0.12255753]])"
      ]
     },
     "execution_count": 117,
     "metadata": {},
     "output_type": "execute_result"
    }
   ],
   "source": [
    "log_model.predict_proba(X_train)"
   ]
  },
  {
   "cell_type": "code",
   "execution_count": 110,
   "metadata": {
    "collapsed": false
   },
   "outputs": [],
   "source": [
    "#Running Model #2 - LR\n",
    "log_model_2 = LogisticRegression()"
   ]
  },
  {
   "cell_type": "code",
   "execution_count": 111,
   "metadata": {
    "collapsed": false
   },
   "outputs": [
    {
     "data": {
      "text/plain": [
       "LogisticRegression(C=1.0, class_weight=None, dual=False, fit_intercept=True,\n",
       "          intercept_scaling=1, max_iter=100, multi_class='ovr', n_jobs=1,\n",
       "          penalty='l2', random_state=None, solver='liblinear', tol=0.0001,\n",
       "          verbose=0, warm_start=False)"
      ]
     },
     "execution_count": 111,
     "metadata": {},
     "output_type": "execute_result"
    }
   ],
   "source": [
    "log_model_2.fit(X_train, y_train)"
   ]
  },
  {
   "cell_type": "code",
   "execution_count": 113,
   "metadata": {
    "collapsed": false
   },
   "outputs": [
    {
     "data": {
      "text/plain": [
       "0.64912280701754388"
      ]
     },
     "execution_count": 113,
     "metadata": {},
     "output_type": "execute_result"
    }
   ],
   "source": [
    "log_model_2.score(X_train, y_train)"
   ]
  },
  {
   "cell_type": "code",
   "execution_count": 26,
   "metadata": {
    "collapsed": true
   },
   "outputs": [],
   "source": [
    "#65% Accuracy"
   ]
  },
  {
   "cell_type": "code",
   "execution_count": 131,
   "metadata": {
    "collapsed": false
   },
   "outputs": [],
   "source": [
    "#Running Model #3 - RandomForest\n",
    "\n",
    "n_estimator_options = [100,200,500,1000]\n",
    "max_depth_options = [2,4,8,16]"
   ]
  },
  {
   "cell_type": "code",
   "execution_count": 137,
   "metadata": {
    "collapsed": false
   },
   "outputs": [
    {
     "name": "stderr",
     "output_type": "stream",
     "text": [
      "/anaconda/lib/python2.7/site-packages/ipykernel/__main__.py:2: DataConversionWarning: A column-vector y was passed when a 1d array was expected. Please change the shape of y to (n_samples,), for example using ravel().\n",
      "  from ipykernel import kernelapp as app\n"
     ]
    },
    {
     "data": {
      "text/plain": [
       "RandomForestClassifier(bootstrap=True, class_weight=None, criterion='gini',\n",
       "            max_depth=4, max_features='auto', max_leaf_nodes=None,\n",
       "            min_impurity_split=1e-07, min_samples_leaf=1,\n",
       "            min_samples_split=2, min_weight_fraction_leaf=0.0,\n",
       "            n_estimators=100, n_jobs=1, oob_score=False, random_state=None,\n",
       "            verbose=0, warm_start=False)"
      ]
     },
     "execution_count": 137,
     "metadata": {},
     "output_type": "execute_result"
    }
   ],
   "source": [
    "random_forest = RandomForestClassifier(n_estimators=100, max_depth=4)\n",
    "random_forest.fit(X_train, y_train)"
   ]
  },
  {
   "cell_type": "code",
   "execution_count": 138,
   "metadata": {
    "collapsed": false
   },
   "outputs": [
    {
     "data": {
      "text/plain": [
       "0.77443609022556392"
      ]
     },
     "execution_count": 138,
     "metadata": {},
     "output_type": "execute_result"
    }
   ],
   "source": [
    "random_forest.score(X_train, y_train)"
   ]
  },
  {
   "cell_type": "code",
   "execution_count": null,
   "metadata": {
    "collapsed": true
   },
   "outputs": [],
   "source": [
    "#77% Accuracy. Random Forests seem to be best of the 3 models. "
   ]
  },
  {
   "cell_type": "code",
   "execution_count": 66,
   "metadata": {
    "collapsed": false
   },
   "outputs": [
    {
     "name": "stdout",
     "output_type": "stream",
     "text": [
      "[ 0.12348314  0.14167533  0.09918014  0.20796056  0.03107909  0.09684051\n",
      "  0.08303574  0.06848976  0.01977955  0.01224184  0.03402587  0.00990184\n",
      "  0.02747237  0.0197375   0.02509676]\n"
     ]
    }
   ],
   "source": [
    "fi = random_forest.feature_importances_\n",
    "print fi"
   ]
  },
  {
   "cell_type": "code",
   "execution_count": 71,
   "metadata": {
    "collapsed": false
   },
   "outputs": [
    {
     "data": {
      "text/plain": [
       "[<matplotlib.lines.Line2D at 0x1178e8a10>]"
      ]
     },
     "execution_count": 71,
     "metadata": {},
     "output_type": "execute_result"
    },
    {
     "data": {
      "image/png": "[encoded data removed]",
      "text/plain": [
       "<matplotlib.figure.Figure at 0x117929110>"
      ]
     },
     "metadata": {},
     "output_type": "display_data"
    }
   ],
   "source": [
    "#Which variable does each value correspond to?\n",
    "plt.plot(random_forest.feature_importances_)"
   ]
  },
  {
   "cell_type": "code",
   "execution_count": 76,
   "metadata": {
    "collapsed": false
   },
   "outputs": [],
   "source": [
    "accuracy_score?"
   ]
  },
  {
   "cell_type": "code",
   "execution_count": 140,
   "metadata": {
    "collapsed": false
   },
   "outputs": [
    {
     "ename": "NameError",
     "evalue": "name 'SVC' is not defined",
     "output_type": "error",
     "traceback": [
      "\u001b[0;31m---------------------------------------------------------------------------\u001b[0m",
      "\u001b[0;31mNameError\u001b[0m                                 Traceback (most recent call last)",
      "\u001b[0;32m<ipython-input-140-1ea21886423d>\u001b[0m in \u001b[0;36m<module>\u001b[0;34m()\u001b[0m\n\u001b[0;32m----> 1\u001b[0;31m \u001b[0mclf\u001b[0m \u001b[0;34m=\u001b[0m \u001b[0mGridSearchCV\u001b[0m\u001b[0;34m(\u001b[0m\u001b[0mSVC\u001b[0m\u001b[0;34m(\u001b[0m\u001b[0mC\u001b[0m\u001b[0;34m=\u001b[0m\u001b[0;36m1\u001b[0m\u001b[0;34m)\u001b[0m\u001b[0;34m,\u001b[0m \u001b[0mtuned_parameters\u001b[0m\u001b[0;34m,\u001b[0m \u001b[0mcv\u001b[0m\u001b[0;34m=\u001b[0m\u001b[0;36m5\u001b[0m\u001b[0;34m,\u001b[0m \u001b[0mscoring\u001b[0m\u001b[0;34m=\u001b[0m\u001b[0mscore\u001b[0m\u001b[0;34m)\u001b[0m\u001b[0;34m\u001b[0m\u001b[0m\n\u001b[0m",
      "\u001b[0;31mNameError\u001b[0m: name 'SVC' is not defined"
     ]
    }
   ],
   "source": [
    "gridsearch_model = Ridge()\n",
    "gridsearch = gridsearch(estimator=gridsearch_model,)"
   ]
  },
  {
   "cell_type": "code",
   "execution_count": 121,
   "metadata": {
    "collapsed": false
   },
   "outputs": [],
   "source": [
    "confusion_matrix?"
   ]
  },
  {
   "cell_type": "code",
   "execution_count": null,
   "metadata": {
    "collapsed": true
   },
   "outputs": [],
   "source": []
  }
 ],
 "metadata": {
  "anaconda-cloud": {},
  "kernelspec": {
   "display_name": "Python [conda root]",
   "language": "python",
   "name": "conda-root-py"
  },
  "language_info": {
   "codemirror_mode": {
    "name": "ipython",
    "version": 2
   },
   "file_extension": ".py",
   "mimetype": "text/x-python",
   "name": "python",
   "nbconvert_exporter": "python",
   "pygments_lexer": "ipython2",
   "version": "2.7.12"
  }
 },
 "nbformat": 4,
 "nbformat_minor": 1
}
